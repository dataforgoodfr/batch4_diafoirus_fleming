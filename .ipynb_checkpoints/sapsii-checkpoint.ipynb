{
 "cells": [
  {
   "cell_type": "markdown",
   "metadata": {},
   "source": [
    "** A few sub-tables / queries potentially usefull for SAPS II computation **"
   ]
  },
  {
   "cell_type": "markdown",
   "metadata": {},
   "source": [
    "* Load librairies / Access the DB"
   ]
  },
  {
   "cell_type": "code",
   "execution_count": null,
   "metadata": {
    "collapsed": true
   },
   "outputs": [],
   "source": [
    "import numpy as np\n",
    "omop_login = np.load('full_omop_login.npy').item()\n",
    "\n",
    "from fleming_lib.tools import connect_to_omop\n",
    "conn = connect_to_omop(login_dict=omop_login)\n",
    "\n",
    "import pandas as pd"
   ]
  },
  {
   "cell_type": "markdown",
   "metadata": {},
   "source": [
    "* Example "
   ]
  },
  {
   "cell_type": "code",
   "execution_count": null,
   "metadata": {
    "collapsed": true
   },
   "outputs": [],
   "source": [
    "query = \"\"\"\n",
    "SELECT * \n",
    "FROM person\n",
    "LIMIT 10;\n",
    "\"\"\"\n",
    "pd.read_sql_query(query, conn)"
   ]
  },
  {
   "cell_type": "markdown",
   "metadata": {},
   "source": [
    "* ICU STAYS : Number"
   ]
  },
  {
   "cell_type": "code",
   "execution_count": null,
   "metadata": {
    "collapsed": true
   },
   "outputs": [],
   "source": [
    "query = \"\"\"\n",
    "SELECT COUNT(distinct visit_detail_id) AS num_totalstays_count\n",
    "FROM visit_detail\n",
    "WHERE visit_detail_concept_id = 581382                             -- concept.concept_name = 'Inpatient Intensive Care Facility'\n",
    "AND visit_type_concept_id = 2000000006;                            -- concept.concept_name = 'Ward and physical location'\n",
    "\"\"\"\n",
    "pd.read_sql_query(query, conn)"
   ]
  },
  {
   "cell_type": "markdown",
   "metadata": {},
   "source": [
    "* ICU STAYS : Components"
   ]
  },
  {
   "cell_type": "code",
   "execution_count": 1,
   "metadata": {
    "collapsed": false
   },
   "outputs": [
    {
     "ename": "NameError",
     "evalue": "name 'pd' is not defined",
     "output_type": "error",
     "traceback": [
      "\u001b[0;31m---------------------------------------------------------------------------\u001b[0m",
      "\u001b[0;31mNameError\u001b[0m                                 Traceback (most recent call last)",
      "\u001b[0;32m<ipython-input-1-7de47197ebe5>\u001b[0m in \u001b[0;36m<module>\u001b[0;34m()\u001b[0m\n\u001b[1;32m      6\u001b[0m \u001b[0mLIMIT\u001b[0m \u001b[0;36m10\u001b[0m\u001b[0;34m;\u001b[0m\u001b[0;34m\u001b[0m\u001b[0m\n\u001b[1;32m      7\u001b[0m \"\"\"\n\u001b[0;32m----> 8\u001b[0;31m \u001b[0mpd\u001b[0m\u001b[0;34m.\u001b[0m\u001b[0mread_sql_query\u001b[0m\u001b[0;34m(\u001b[0m\u001b[0mquery_icu\u001b[0m\u001b[0;34m,\u001b[0m \u001b[0mconn\u001b[0m\u001b[0;34m)\u001b[0m\u001b[0;34m\u001b[0m\u001b[0m\n\u001b[0m",
      "\u001b[0;31mNameError\u001b[0m: name 'pd' is not defined"
     ]
    }
   ],
   "source": [
    "query_icu = \"\"\"\n",
    "SELECT *\n",
    "FROM visit_detail\n",
    "WHERE visit_detail_concept_id = 581382              \n",
    "AND visit_type_concept_id = 2000000006\n",
    "LIMIT 10; \n",
    "\"\"\"\n",
    "pd.read_sql_query(query_icu, conn)"
   ]
  },
  {
   "cell_type": "markdown",
   "metadata": {},
   "source": [
    "* ICU STAYS : Encapsulation"
   ]
  },
  {
   "cell_type": "code",
   "execution_count": null,
   "metadata": {
    "collapsed": true
   },
   "outputs": [],
   "source": [
    "query_icu = \"\"\"\n",
    "WITH ie AS                                                 -- Equivalent to icustays\n",
    "( SELECT *\n",
    "  FROM visit_detail\n",
    "  WHERE visit_detail_concept_id = 581382              \n",
    "  AND visit_type_concept_id = 2000000006 \n",
    ")\n",
    "\n",
    "SELECT *\n",
    "FROM ie\n",
    "LIMIT 10;\n",
    "\"\"\"\n",
    "pd.read_sql_query(query_icu, conn)"
   ]
  },
  {
   "cell_type": "markdown",
   "metadata": {},
   "source": [
    "* ICU STAYS : Full score computation (so far... DOES NOT WORK)"
   ]
  },
  {
   "cell_type": "code",
   "execution_count": null,
   "metadata": {
    "collapsed": true
   },
   "outputs": [],
   "source": [
    "query = \"\"\"\n",
    "WITH ie AS                                                 -- Equivalent to icustays\n",
    "( SELECT *\n",
    "  FROM visit_detail\n",
    "  WHERE visit_detail_concept_id = 581382              \n",
    "  AND visit_type_concept_id = 2000000006 \n",
    "  \n",
    ") , cpap AS           \n",
    "\n",
    "( SELECT distinct ie.person_id,                     \n",
    "    , min(measurement_datetime - interval '1' hour) as starttime\n",
    "    , max(measurement_datetime + interval '4' hour) as endtime\n",
    "    --, max(case when lower(ce.value) similar to '%(cpap mask|bipap mask)%' then 1 else 0 end) as cpap\n",
    "    \n",
    "  FROM ie\n",
    "  \n",
    "  INNER JOIN measurement me                           -- chartevents have been mapped onto MEASUREMENT and OBSERVATION on OMOP..\n",
    "    ON ie.person_id=me.person_id\n",
    "    AND me.measurement_datetime between ie.visit_start_datetime and ie.visit_start_datetime + interval '1' day \n",
    "  \n",
    "  WHERE measurement_id in (???)\n",
    "  -- AND lower(ce.value) similar to '%(cpap mask|bipap mask)%'\n",
    "  group by ie.person_id\n",
    "  \n",
    ")\n",
    "\n",
    "\"\"\"\n",
    "\n",
    "pd.read_sql_query(query, conn)"
   ]
  }
 ],
 "metadata": {
  "kernelspec": {
   "display_name": "Python 3",
   "language": "python",
   "name": "python3"
  },
  "language_info": {
   "codemirror_mode": {
    "name": "ipython",
    "version": 3
   },
   "file_extension": ".py",
   "mimetype": "text/x-python",
   "name": "python",
   "nbconvert_exporter": "python",
   "pygments_lexer": "ipython3",
   "version": "3.5.4"
  }
 },
 "nbformat": 4,
 "nbformat_minor": 2
}
