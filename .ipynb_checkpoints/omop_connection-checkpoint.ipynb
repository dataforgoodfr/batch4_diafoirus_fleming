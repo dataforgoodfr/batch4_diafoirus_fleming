{
 "cells": [
  {
   "cell_type": "markdown",
   "metadata": {},
   "source": [
    "# Connection to OMOP database\n",
    "\n",
    "In order to connect to the full database, you will need to install the [pymonetdb](https://pypi.python.org/pypi/pymonetdb) package. You can do this in your terminal with 'conda install pymonetdb' (if you have Anaconda, use this one as it is more stable) or 'pip install pymonetdb'.\n",
    "\n",
    "Last step before running the notebook: you need access credentials to this database and replace 'fleming' and the specified password by the ones you were provided with.\n",
    "\n",
    "Access are only available to people that passed the CITI “Data or Specimens Only Research” and completed the different steps to be granted an access. If you wish to request an access, please refer to this [page](https://mimic.physionet.org/gettingstarted/access/)"
   ]
  },
  {
   "cell_type": "markdown",
   "metadata": {},
   "source": [
    "Optionally, you can use a .npy file to store your credentials and load them as below:"
   ]
  },
  {
   "cell_type": "code",
   "execution_count": 1,
   "metadata": {},
   "outputs": [],
   "source": [
    "import numpy as np\n",
    "omop_login = np.load('full_omop_login.npy').item()"
   ]
  },
  {
   "cell_type": "markdown",
   "metadata": {},
   "source": [
    "First, we open a connection to the database to be able to send queries in SQL."
   ]
  },
  {
   "cell_type": "code",
   "execution_count": 2,
   "metadata": {},
   "outputs": [],
   "source": [
    "from fleming_lib.tools import connect_to_omop\n",
    "conn = connect_to_omop(login_dict=omop_login)"
   ]
  },
  {
   "cell_type": "markdown",
   "metadata": {},
   "source": [
    "Let's run a first example query and retrieve the result in a pandas dataframe!"
   ]
  },
  {
   "cell_type": "code",
   "execution_count": 3,
   "metadata": {},
   "outputs": [
    {
     "data": {
      "text/html": [
       "<div>\n",
       "<style scoped>\n",
       "    .dataframe tbody tr th:only-of-type {\n",
       "        vertical-align: middle;\n",
       "    }\n",
       "\n",
       "    .dataframe tbody tr th {\n",
       "        vertical-align: top;\n",
       "    }\n",
       "\n",
       "    .dataframe thead th {\n",
       "        text-align: right;\n",
       "    }\n",
       "</style>\n",
       "<table border=\"1\" class=\"dataframe\">\n",
       "  <thead>\n",
       "    <tr style=\"text-align: right;\">\n",
       "      <th></th>\n",
       "      <th>person_id</th>\n",
       "      <th>gender_concept_id</th>\n",
       "      <th>year_of_birth</th>\n",
       "      <th>month_of_birth</th>\n",
       "      <th>day_of_birth</th>\n",
       "      <th>birth_datetime</th>\n",
       "      <th>race_concept_id</th>\n",
       "      <th>ethnicity_concept_id</th>\n",
       "      <th>location_id</th>\n",
       "      <th>provider_id</th>\n",
       "      <th>care_site_id</th>\n",
       "      <th>person_source_value</th>\n",
       "      <th>gender_source_value</th>\n",
       "      <th>gender_source_concept_id</th>\n",
       "      <th>race_source_value</th>\n",
       "      <th>race_source_concept_id</th>\n",
       "      <th>ethnicity_source_value</th>\n",
       "      <th>ethnicity_source_concept_id</th>\n",
       "    </tr>\n",
       "  </thead>\n",
       "  <tbody>\n",
       "    <tr>\n",
       "      <th>0</th>\n",
       "      <td>62063589</td>\n",
       "      <td>8507</td>\n",
       "      <td>2138</td>\n",
       "      <td>7</td>\n",
       "      <td>17</td>\n",
       "      <td>2138-07-17</td>\n",
       "      <td>8515</td>\n",
       "      <td>0</td>\n",
       "      <td>None</td>\n",
       "      <td>None</td>\n",
       "      <td>None</td>\n",
       "      <td>None</td>\n",
       "      <td>M</td>\n",
       "      <td>None</td>\n",
       "      <td>ASIAN</td>\n",
       "      <td>None</td>\n",
       "      <td>None</td>\n",
       "      <td>None</td>\n",
       "    </tr>\n",
       "    <tr>\n",
       "      <th>1</th>\n",
       "      <td>62063590</td>\n",
       "      <td>8507</td>\n",
       "      <td>2025</td>\n",
       "      <td>4</td>\n",
       "      <td>11</td>\n",
       "      <td>2025-04-11</td>\n",
       "      <td>8527</td>\n",
       "      <td>0</td>\n",
       "      <td>None</td>\n",
       "      <td>None</td>\n",
       "      <td>None</td>\n",
       "      <td>None</td>\n",
       "      <td>M</td>\n",
       "      <td>None</td>\n",
       "      <td>WHITE</td>\n",
       "      <td>None</td>\n",
       "      <td>None</td>\n",
       "      <td>None</td>\n",
       "    </tr>\n",
       "    <tr>\n",
       "      <th>2</th>\n",
       "      <td>62063591</td>\n",
       "      <td>8532</td>\n",
       "      <td>2143</td>\n",
       "      <td>5</td>\n",
       "      <td>12</td>\n",
       "      <td>2143-05-12</td>\n",
       "      <td>8527</td>\n",
       "      <td>0</td>\n",
       "      <td>None</td>\n",
       "      <td>None</td>\n",
       "      <td>None</td>\n",
       "      <td>None</td>\n",
       "      <td>F</td>\n",
       "      <td>None</td>\n",
       "      <td>WHITE</td>\n",
       "      <td>None</td>\n",
       "      <td>None</td>\n",
       "      <td>None</td>\n",
       "    </tr>\n",
       "    <tr>\n",
       "      <th>3</th>\n",
       "      <td>62063592</td>\n",
       "      <td>8507</td>\n",
       "      <td>2103</td>\n",
       "      <td>2</td>\n",
       "      <td>2</td>\n",
       "      <td>2103-02-02</td>\n",
       "      <td>8515</td>\n",
       "      <td>0</td>\n",
       "      <td>None</td>\n",
       "      <td>None</td>\n",
       "      <td>None</td>\n",
       "      <td>None</td>\n",
       "      <td>M</td>\n",
       "      <td>None</td>\n",
       "      <td>ASIAN</td>\n",
       "      <td>None</td>\n",
       "      <td>None</td>\n",
       "      <td>None</td>\n",
       "    </tr>\n",
       "    <tr>\n",
       "      <th>4</th>\n",
       "      <td>62063593</td>\n",
       "      <td>8532</td>\n",
       "      <td>2109</td>\n",
       "      <td>6</td>\n",
       "      <td>21</td>\n",
       "      <td>2109-06-21</td>\n",
       "      <td>8527</td>\n",
       "      <td>0</td>\n",
       "      <td>None</td>\n",
       "      <td>None</td>\n",
       "      <td>None</td>\n",
       "      <td>None</td>\n",
       "      <td>F</td>\n",
       "      <td>None</td>\n",
       "      <td>WHITE</td>\n",
       "      <td>None</td>\n",
       "      <td>None</td>\n",
       "      <td>None</td>\n",
       "    </tr>\n",
       "    <tr>\n",
       "      <th>5</th>\n",
       "      <td>62063594</td>\n",
       "      <td>8532</td>\n",
       "      <td>2121</td>\n",
       "      <td>5</td>\n",
       "      <td>23</td>\n",
       "      <td>2121-05-23</td>\n",
       "      <td>8527</td>\n",
       "      <td>0</td>\n",
       "      <td>None</td>\n",
       "      <td>None</td>\n",
       "      <td>None</td>\n",
       "      <td>None</td>\n",
       "      <td>F</td>\n",
       "      <td>None</td>\n",
       "      <td>WHITE</td>\n",
       "      <td>None</td>\n",
       "      <td>None</td>\n",
       "      <td>None</td>\n",
       "    </tr>\n",
       "    <tr>\n",
       "      <th>6</th>\n",
       "      <td>62063595</td>\n",
       "      <td>8507</td>\n",
       "      <td>2117</td>\n",
       "      <td>11</td>\n",
       "      <td>20</td>\n",
       "      <td>2117-11-20</td>\n",
       "      <td>8527</td>\n",
       "      <td>0</td>\n",
       "      <td>None</td>\n",
       "      <td>None</td>\n",
       "      <td>None</td>\n",
       "      <td>None</td>\n",
       "      <td>M</td>\n",
       "      <td>None</td>\n",
       "      <td>WHITE</td>\n",
       "      <td>None</td>\n",
       "      <td>None</td>\n",
       "      <td>None</td>\n",
       "    </tr>\n",
       "    <tr>\n",
       "      <th>7</th>\n",
       "      <td>62063596</td>\n",
       "      <td>8507</td>\n",
       "      <td>2108</td>\n",
       "      <td>1</td>\n",
       "      <td>26</td>\n",
       "      <td>2108-01-26</td>\n",
       "      <td>4218674</td>\n",
       "      <td>0</td>\n",
       "      <td>None</td>\n",
       "      <td>None</td>\n",
       "      <td>None</td>\n",
       "      <td>None</td>\n",
       "      <td>M</td>\n",
       "      <td>None</td>\n",
       "      <td>UNKNOWN/NOT SPECIFIED</td>\n",
       "      <td>None</td>\n",
       "      <td>None</td>\n",
       "      <td>None</td>\n",
       "    </tr>\n",
       "    <tr>\n",
       "      <th>8</th>\n",
       "      <td>62063597</td>\n",
       "      <td>8532</td>\n",
       "      <td>2103</td>\n",
       "      <td>6</td>\n",
       "      <td>28</td>\n",
       "      <td>2103-06-28</td>\n",
       "      <td>38003599</td>\n",
       "      <td>0</td>\n",
       "      <td>None</td>\n",
       "      <td>None</td>\n",
       "      <td>None</td>\n",
       "      <td>None</td>\n",
       "      <td>F</td>\n",
       "      <td>None</td>\n",
       "      <td>BLACK/AFRICAN AMERICAN</td>\n",
       "      <td>None</td>\n",
       "      <td>None</td>\n",
       "      <td>None</td>\n",
       "    </tr>\n",
       "    <tr>\n",
       "      <th>9</th>\n",
       "      <td>62063598</td>\n",
       "      <td>8532</td>\n",
       "      <td>2128</td>\n",
       "      <td>2</td>\n",
       "      <td>22</td>\n",
       "      <td>2128-02-22</td>\n",
       "      <td>8527</td>\n",
       "      <td>0</td>\n",
       "      <td>None</td>\n",
       "      <td>None</td>\n",
       "      <td>None</td>\n",
       "      <td>None</td>\n",
       "      <td>F</td>\n",
       "      <td>None</td>\n",
       "      <td>WHITE</td>\n",
       "      <td>None</td>\n",
       "      <td>None</td>\n",
       "      <td>None</td>\n",
       "    </tr>\n",
       "  </tbody>\n",
       "</table>\n",
       "</div>"
      ],
      "text/plain": [
       "   person_id  gender_concept_id  year_of_birth  month_of_birth  day_of_birth  \\\n",
       "0   62063589               8507           2138               7            17   \n",
       "1   62063590               8507           2025               4            11   \n",
       "2   62063591               8532           2143               5            12   \n",
       "3   62063592               8507           2103               2             2   \n",
       "4   62063593               8532           2109               6            21   \n",
       "5   62063594               8532           2121               5            23   \n",
       "6   62063595               8507           2117              11            20   \n",
       "7   62063596               8507           2108               1            26   \n",
       "8   62063597               8532           2103               6            28   \n",
       "9   62063598               8532           2128               2            22   \n",
       "\n",
       "  birth_datetime  race_concept_id  ethnicity_concept_id location_id  \\\n",
       "0     2138-07-17             8515                     0        None   \n",
       "1     2025-04-11             8527                     0        None   \n",
       "2     2143-05-12             8527                     0        None   \n",
       "3     2103-02-02             8515                     0        None   \n",
       "4     2109-06-21             8527                     0        None   \n",
       "5     2121-05-23             8527                     0        None   \n",
       "6     2117-11-20             8527                     0        None   \n",
       "7     2108-01-26          4218674                     0        None   \n",
       "8     2103-06-28         38003599                     0        None   \n",
       "9     2128-02-22             8527                     0        None   \n",
       "\n",
       "  provider_id care_site_id person_source_value gender_source_value  \\\n",
       "0        None         None                None                   M   \n",
       "1        None         None                None                   M   \n",
       "2        None         None                None                   F   \n",
       "3        None         None                None                   M   \n",
       "4        None         None                None                   F   \n",
       "5        None         None                None                   F   \n",
       "6        None         None                None                   M   \n",
       "7        None         None                None                   M   \n",
       "8        None         None                None                   F   \n",
       "9        None         None                None                   F   \n",
       "\n",
       "  gender_source_concept_id       race_source_value race_source_concept_id  \\\n",
       "0                     None                   ASIAN                   None   \n",
       "1                     None                   WHITE                   None   \n",
       "2                     None                   WHITE                   None   \n",
       "3                     None                   ASIAN                   None   \n",
       "4                     None                   WHITE                   None   \n",
       "5                     None                   WHITE                   None   \n",
       "6                     None                   WHITE                   None   \n",
       "7                     None   UNKNOWN/NOT SPECIFIED                   None   \n",
       "8                     None  BLACK/AFRICAN AMERICAN                   None   \n",
       "9                     None                   WHITE                   None   \n",
       "\n",
       "  ethnicity_source_value ethnicity_source_concept_id  \n",
       "0                   None                        None  \n",
       "1                   None                        None  \n",
       "2                   None                        None  \n",
       "3                   None                        None  \n",
       "4                   None                        None  \n",
       "5                   None                        None  \n",
       "6                   None                        None  \n",
       "7                   None                        None  \n",
       "8                   None                        None  \n",
       "9                   None                        None  "
      ]
     },
     "execution_count": 3,
     "metadata": {},
     "output_type": "execute_result"
    }
   ],
   "source": [
    "query = \"\"\"\n",
    "SELECT * \n",
    "FROM person\n",
    "LIMIT 10;\n",
    "\"\"\"\n",
    "\n",
    "import pandas as pd\n",
    "pd.read_sql_query(query, conn)"
   ]
  },
  {
   "cell_type": "markdown",
   "metadata": {},
   "source": [
    "A quick visualization wouldn't hurt"
   ]
  },
  {
   "cell_type": "code",
   "execution_count": 4,
   "metadata": {},
   "outputs": [],
   "source": [
    "df = pd.read_sql_query('select person_id, year_of_birth, gender_source_value as gender from person limit 500;', conn)"
   ]
  },
  {
   "cell_type": "code",
   "execution_count": 5,
   "metadata": {},
   "outputs": [
    {
     "data": {
      "text/plain": [
       "Text(0.5,0,'Year of birth')"
      ]
     },
     "execution_count": 5,
     "metadata": {},
     "output_type": "execute_result"
    },
    {
     "data": {
      "image/png": "[encoded data removed]",
      "text/plain": [
       "<matplotlib.figure.Figure at 0x7fc5cc6f7b00>"
      ]
     },
     "metadata": {},
     "output_type": "display_data"
    }
   ],
   "source": [
    "import matplotlib.pyplot as plt\n",
    "import seaborn as sns\n",
    "%matplotlib inline\n",
    "sns.set_style(\"whitegrid\")\n",
    "fig = sns.distplot(df[\"year_of_birth\"], bins=20)\n",
    "fig.figure.suptitle(\"Split for year of birth\", fontsize = 18)\n",
    "plt.xlabel('Year of birth', fontsize=12)"
   ]
  },
  {
   "cell_type": "markdown",
   "metadata": {},
   "source": [
    "Alright, the data needs some processing but the access works. Let's confirm this on another table:"
   ]
  },
  {
   "cell_type": "code",
   "execution_count": 6,
   "metadata": {},
   "outputs": [
    {
     "data": {
      "text/html": [
       "<div>\n",
       "<style scoped>\n",
       "    .dataframe tbody tr th:only-of-type {\n",
       "        vertical-align: middle;\n",
       "    }\n",
       "\n",
       "    .dataframe tbody tr th {\n",
       "        vertical-align: top;\n",
       "    }\n",
       "\n",
       "    .dataframe thead th {\n",
       "        text-align: right;\n",
       "    }\n",
       "</style>\n",
       "<table border=\"1\" class=\"dataframe\">\n",
       "  <thead>\n",
       "    <tr style=\"text-align: right;\">\n",
       "      <th></th>\n",
       "      <th>L3</th>\n",
       "    </tr>\n",
       "  </thead>\n",
       "  <tbody>\n",
       "    <tr>\n",
       "      <th>0</th>\n",
       "      <td>58976</td>\n",
       "    </tr>\n",
       "  </tbody>\n",
       "</table>\n",
       "</div>"
      ],
      "text/plain": [
       "      L3\n",
       "0  58976"
      ]
     },
     "execution_count": 6,
     "metadata": {},
     "output_type": "execute_result"
    }
   ],
   "source": [
    "query = \"\"\"\n",
    "SELECT count(*) \n",
    "FROM visit_occurrence\n",
    "\"\"\"\n",
    "\n",
    "pd.read_sql_query(query, conn)"
   ]
  },
  {
   "cell_type": "markdown",
   "metadata": {
    "collapsed": true
   },
   "source": [
    "We are now up and running. Let's dive into the real work!"
   ]
  },
  {
   "cell_type": "markdown",
   "metadata": {},
   "source": [
    "# Fleming_lib module\n",
    "\n",
    "Conduct your analysis by implementing the different functions in the fleming_lib folder"
   ]
  },
  {
   "cell_type": "markdown",
   "metadata": {},
   "source": [
    "Let's test the module"
   ]
  },
  {
   "cell_type": "code",
   "execution_count": 7,
   "metadata": {},
   "outputs": [
    {
     "name": "stdout",
     "output_type": "stream",
     "text": [
      "[===========================================================>] 100.0% ...\r"
     ]
    }
   ],
   "source": [
    "from fleming_lib.tools import progress_bar\n",
    "\n",
    "for i in range(1000):\n",
    "    progress_bar(i + 1, 1000)"
   ]
  },
  {
   "cell_type": "code",
   "execution_count": 8,
   "metadata": {},
   "outputs": [
    {
     "name": "stdout",
     "output_type": "stream",
     "text": [
      "My IGS-II is: 0\n"
     ]
    }
   ],
   "source": [
    "from fleming_lib.indicators import compute_igs2_score\n",
    "print('My IGS-II is: '+ str(compute_igs2_score()))"
   ]
  }
 ],
 "metadata": {
  "kernelspec": {
   "display_name": "Python 3",
   "language": "python",
   "name": "python3"
  },
  "language_info": {
   "codemirror_mode": {
    "name": "ipython",
    "version": 3
   },
   "file_extension": ".py",
   "mimetype": "text/x-python",
   "name": "python",
   "nbconvert_exporter": "python",
   "pygments_lexer": "ipython3",
   "version": "3.6.4"
  }
 },
 "nbformat": 4,
 "nbformat_minor": 2
}
