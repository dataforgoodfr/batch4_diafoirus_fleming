{
 "cells": [
  {
   "cell_type": "markdown",
   "metadata": {},
   "source": [
    "# Connection to OMOP database\n",
    "\n",
    "In order to connect to the full database, you will need to install the [pymonetdb](https://pypi.python.org/pypi/pymonetdb) package. You can do this in your terminal with 'conda install pymonetdb' (if you have Anaconda, use this one as it is more stable) or 'pip install pymonetdb'.\n",
    "\n",
    "Last step before running the notebook: you need access credentials to this database and replace 'fleming' and the specified password by the ones you were provided with.\n",
    "\n",
    "Access are only available to people that passed the CITI “Data or Specimens Only Research” and completed the different steps to be granted an access. If you wish to request an access, please refer to this [page](https://mimic.physionet.org/gettingstarted/access/)"
   ]
  },
  {
   "cell_type": "markdown",
   "metadata": {},
   "source": [
    "Optionally, you can use a .npy file to store your credentials and load them as below:"
   ]
  },
  {
   "cell_type": "code",
   "execution_count": 197,
   "metadata": {
    "collapsed": false
   },
   "outputs": [],
   "source": [
    "import numpy as np\n",
    "omop_login = np.load('full_omop_login.npy').item()"
   ]
  },
  {
   "cell_type": "markdown",
   "metadata": {},
   "source": [
    "First, we open a connection to the database to be able to send queries in SQL."
   ]
  },
  {
   "cell_type": "code",
   "execution_count": 198,
   "metadata": {
    "collapsed": false
   },
   "outputs": [],
   "source": [
    "from fleming_lib.tools import connect_to_omop\n",
    "conn = connect_to_omop(login_dict=omop_login)"
   ]
  },
  {
   "cell_type": "markdown",
   "metadata": {},
   "source": [
    "Let's run a first example query and retrieve the result in a pandas dataframe!"
   ]
  },
  {
   "cell_type": "code",
   "execution_count": 199,
   "metadata": {
    "collapsed": false
   },
   "outputs": [
    {
     "data": {
      "text/html": [
       "<div>\n",
       "<style>\n",
       "    .dataframe thead tr:only-child th {\n",
       "        text-align: right;\n",
       "    }\n",
       "\n",
       "    .dataframe thead th {\n",
       "        text-align: left;\n",
       "    }\n",
       "\n",
       "    .dataframe tbody tr th {\n",
       "        vertical-align: top;\n",
       "    }\n",
       "</style>\n",
       "<table border=\"1\" class=\"dataframe\">\n",
       "  <thead>\n",
       "    <tr style=\"text-align: right;\">\n",
       "      <th></th>\n",
       "      <th>person_id</th>\n",
       "      <th>gender_concept_id</th>\n",
       "      <th>gender_concept_name</th>\n",
       "      <th>gender_concept_code</th>\n",
       "      <th>gender_concept_code_system</th>\n",
       "      <th>year_of_birth</th>\n",
       "      <th>month_of_birth</th>\n",
       "      <th>day_of_birth</th>\n",
       "      <th>birth_datetime</th>\n",
       "      <th>race_concept_id</th>\n",
       "      <th>...</th>\n",
       "      <th>location_id</th>\n",
       "      <th>provider_id</th>\n",
       "      <th>care_site_id</th>\n",
       "      <th>person_source_value</th>\n",
       "      <th>gender_source_value</th>\n",
       "      <th>gender_source_concept_id</th>\n",
       "      <th>race_source_value</th>\n",
       "      <th>race_source_concept_id</th>\n",
       "      <th>ethnicity_source_value</th>\n",
       "      <th>ethnicity_source_concept_id</th>\n",
       "    </tr>\n",
       "  </thead>\n",
       "  <tbody>\n",
       "    <tr>\n",
       "      <th>0</th>\n",
       "      <td>62065089</td>\n",
       "      <td>8532</td>\n",
       "      <td>FEMALE</td>\n",
       "      <td>F</td>\n",
       "      <td>Gender</td>\n",
       "      <td>2107</td>\n",
       "      <td>6</td>\n",
       "      <td>29</td>\n",
       "      <td>2107-06-29</td>\n",
       "      <td>8515</td>\n",
       "      <td>...</td>\n",
       "      <td>None</td>\n",
       "      <td>None</td>\n",
       "      <td>None</td>\n",
       "      <td>None</td>\n",
       "      <td>F</td>\n",
       "      <td>None</td>\n",
       "      <td>ASIAN</td>\n",
       "      <td>None</td>\n",
       "      <td>None</td>\n",
       "      <td>None</td>\n",
       "    </tr>\n",
       "    <tr>\n",
       "      <th>1</th>\n",
       "      <td>62106569</td>\n",
       "      <td>8507</td>\n",
       "      <td>MALE</td>\n",
       "      <td>M</td>\n",
       "      <td>Gender</td>\n",
       "      <td>2047</td>\n",
       "      <td>11</td>\n",
       "      <td>1</td>\n",
       "      <td>2047-11-01</td>\n",
       "      <td>8515</td>\n",
       "      <td>...</td>\n",
       "      <td>None</td>\n",
       "      <td>None</td>\n",
       "      <td>None</td>\n",
       "      <td>None</td>\n",
       "      <td>M</td>\n",
       "      <td>None</td>\n",
       "      <td>ASIAN</td>\n",
       "      <td>None</td>\n",
       "      <td>None</td>\n",
       "      <td>None</td>\n",
       "    </tr>\n",
       "    <tr>\n",
       "      <th>2</th>\n",
       "      <td>62073299</td>\n",
       "      <td>8532</td>\n",
       "      <td>FEMALE</td>\n",
       "      <td>F</td>\n",
       "      <td>Gender</td>\n",
       "      <td>2190</td>\n",
       "      <td>4</td>\n",
       "      <td>23</td>\n",
       "      <td>2190-04-23</td>\n",
       "      <td>8515</td>\n",
       "      <td>...</td>\n",
       "      <td>None</td>\n",
       "      <td>None</td>\n",
       "      <td>None</td>\n",
       "      <td>None</td>\n",
       "      <td>F</td>\n",
       "      <td>None</td>\n",
       "      <td>ASIAN</td>\n",
       "      <td>None</td>\n",
       "      <td>None</td>\n",
       "      <td>None</td>\n",
       "    </tr>\n",
       "    <tr>\n",
       "      <th>3</th>\n",
       "      <td>62096906</td>\n",
       "      <td>8507</td>\n",
       "      <td>MALE</td>\n",
       "      <td>M</td>\n",
       "      <td>Gender</td>\n",
       "      <td>2182</td>\n",
       "      <td>9</td>\n",
       "      <td>7</td>\n",
       "      <td>2182-09-07</td>\n",
       "      <td>8515</td>\n",
       "      <td>...</td>\n",
       "      <td>None</td>\n",
       "      <td>None</td>\n",
       "      <td>None</td>\n",
       "      <td>None</td>\n",
       "      <td>M</td>\n",
       "      <td>None</td>\n",
       "      <td>ASIAN</td>\n",
       "      <td>None</td>\n",
       "      <td>None</td>\n",
       "      <td>None</td>\n",
       "    </tr>\n",
       "    <tr>\n",
       "      <th>4</th>\n",
       "      <td>62102055</td>\n",
       "      <td>8507</td>\n",
       "      <td>MALE</td>\n",
       "      <td>M</td>\n",
       "      <td>Gender</td>\n",
       "      <td>2087</td>\n",
       "      <td>2</td>\n",
       "      <td>28</td>\n",
       "      <td>2087-02-28</td>\n",
       "      <td>8515</td>\n",
       "      <td>...</td>\n",
       "      <td>None</td>\n",
       "      <td>None</td>\n",
       "      <td>None</td>\n",
       "      <td>None</td>\n",
       "      <td>M</td>\n",
       "      <td>None</td>\n",
       "      <td>ASIAN</td>\n",
       "      <td>None</td>\n",
       "      <td>None</td>\n",
       "      <td>None</td>\n",
       "    </tr>\n",
       "    <tr>\n",
       "      <th>5</th>\n",
       "      <td>62106786</td>\n",
       "      <td>8532</td>\n",
       "      <td>FEMALE</td>\n",
       "      <td>F</td>\n",
       "      <td>Gender</td>\n",
       "      <td>2161</td>\n",
       "      <td>3</td>\n",
       "      <td>31</td>\n",
       "      <td>2161-03-31</td>\n",
       "      <td>8515</td>\n",
       "      <td>...</td>\n",
       "      <td>None</td>\n",
       "      <td>None</td>\n",
       "      <td>None</td>\n",
       "      <td>None</td>\n",
       "      <td>F</td>\n",
       "      <td>None</td>\n",
       "      <td>ASIAN</td>\n",
       "      <td>None</td>\n",
       "      <td>None</td>\n",
       "      <td>None</td>\n",
       "    </tr>\n",
       "    <tr>\n",
       "      <th>6</th>\n",
       "      <td>62083063</td>\n",
       "      <td>8532</td>\n",
       "      <td>FEMALE</td>\n",
       "      <td>F</td>\n",
       "      <td>Gender</td>\n",
       "      <td>2125</td>\n",
       "      <td>12</td>\n",
       "      <td>16</td>\n",
       "      <td>2125-12-16</td>\n",
       "      <td>8515</td>\n",
       "      <td>...</td>\n",
       "      <td>None</td>\n",
       "      <td>None</td>\n",
       "      <td>None</td>\n",
       "      <td>None</td>\n",
       "      <td>F</td>\n",
       "      <td>None</td>\n",
       "      <td>ASIAN</td>\n",
       "      <td>None</td>\n",
       "      <td>None</td>\n",
       "      <td>None</td>\n",
       "    </tr>\n",
       "    <tr>\n",
       "      <th>7</th>\n",
       "      <td>62078234</td>\n",
       "      <td>8507</td>\n",
       "      <td>MALE</td>\n",
       "      <td>M</td>\n",
       "      <td>Gender</td>\n",
       "      <td>2110</td>\n",
       "      <td>6</td>\n",
       "      <td>19</td>\n",
       "      <td>2110-06-19</td>\n",
       "      <td>8515</td>\n",
       "      <td>...</td>\n",
       "      <td>None</td>\n",
       "      <td>None</td>\n",
       "      <td>None</td>\n",
       "      <td>None</td>\n",
       "      <td>M</td>\n",
       "      <td>None</td>\n",
       "      <td>ASIAN</td>\n",
       "      <td>None</td>\n",
       "      <td>None</td>\n",
       "      <td>None</td>\n",
       "    </tr>\n",
       "    <tr>\n",
       "      <th>8</th>\n",
       "      <td>62065073</td>\n",
       "      <td>8532</td>\n",
       "      <td>FEMALE</td>\n",
       "      <td>F</td>\n",
       "      <td>Gender</td>\n",
       "      <td>2074</td>\n",
       "      <td>5</td>\n",
       "      <td>27</td>\n",
       "      <td>2074-05-27</td>\n",
       "      <td>8515</td>\n",
       "      <td>...</td>\n",
       "      <td>None</td>\n",
       "      <td>None</td>\n",
       "      <td>None</td>\n",
       "      <td>None</td>\n",
       "      <td>F</td>\n",
       "      <td>None</td>\n",
       "      <td>ASIAN</td>\n",
       "      <td>None</td>\n",
       "      <td>None</td>\n",
       "      <td>None</td>\n",
       "    </tr>\n",
       "    <tr>\n",
       "      <th>9</th>\n",
       "      <td>62100837</td>\n",
       "      <td>8532</td>\n",
       "      <td>FEMALE</td>\n",
       "      <td>F</td>\n",
       "      <td>Gender</td>\n",
       "      <td>2136</td>\n",
       "      <td>7</td>\n",
       "      <td>22</td>\n",
       "      <td>2136-07-22</td>\n",
       "      <td>8515</td>\n",
       "      <td>...</td>\n",
       "      <td>None</td>\n",
       "      <td>None</td>\n",
       "      <td>None</td>\n",
       "      <td>None</td>\n",
       "      <td>F</td>\n",
       "      <td>None</td>\n",
       "      <td>ASIAN</td>\n",
       "      <td>None</td>\n",
       "      <td>None</td>\n",
       "      <td>None</td>\n",
       "    </tr>\n",
       "  </tbody>\n",
       "</table>\n",
       "<p>10 rows × 24 columns</p>\n",
       "</div>"
      ],
      "text/plain": [
       "   person_id  gender_concept_id gender_concept_name gender_concept_code  \\\n",
       "0   62065089               8532              FEMALE                   F   \n",
       "1   62106569               8507                MALE                   M   \n",
       "2   62073299               8532              FEMALE                   F   \n",
       "3   62096906               8507                MALE                   M   \n",
       "4   62102055               8507                MALE                   M   \n",
       "5   62106786               8532              FEMALE                   F   \n",
       "6   62083063               8532              FEMALE                   F   \n",
       "7   62078234               8507                MALE                   M   \n",
       "8   62065073               8532              FEMALE                   F   \n",
       "9   62100837               8532              FEMALE                   F   \n",
       "\n",
       "  gender_concept_code_system  year_of_birth  month_of_birth  day_of_birth  \\\n",
       "0                     Gender           2107               6            29   \n",
       "1                     Gender           2047              11             1   \n",
       "2                     Gender           2190               4            23   \n",
       "3                     Gender           2182               9             7   \n",
       "4                     Gender           2087               2            28   \n",
       "5                     Gender           2161               3            31   \n",
       "6                     Gender           2125              12            16   \n",
       "7                     Gender           2110               6            19   \n",
       "8                     Gender           2074               5            27   \n",
       "9                     Gender           2136               7            22   \n",
       "\n",
       "  birth_datetime  race_concept_id             ...             location_id  \\\n",
       "0     2107-06-29             8515             ...                    None   \n",
       "1     2047-11-01             8515             ...                    None   \n",
       "2     2190-04-23             8515             ...                    None   \n",
       "3     2182-09-07             8515             ...                    None   \n",
       "4     2087-02-28             8515             ...                    None   \n",
       "5     2161-03-31             8515             ...                    None   \n",
       "6     2125-12-16             8515             ...                    None   \n",
       "7     2110-06-19             8515             ...                    None   \n",
       "8     2074-05-27             8515             ...                    None   \n",
       "9     2136-07-22             8515             ...                    None   \n",
       "\n",
       "  provider_id care_site_id  person_source_value gender_source_value  \\\n",
       "0        None         None                 None                   F   \n",
       "1        None         None                 None                   M   \n",
       "2        None         None                 None                   F   \n",
       "3        None         None                 None                   M   \n",
       "4        None         None                 None                   M   \n",
       "5        None         None                 None                   F   \n",
       "6        None         None                 None                   F   \n",
       "7        None         None                 None                   M   \n",
       "8        None         None                 None                   F   \n",
       "9        None         None                 None                   F   \n",
       "\n",
       "  gender_source_concept_id race_source_value race_source_concept_id  \\\n",
       "0                     None             ASIAN                   None   \n",
       "1                     None             ASIAN                   None   \n",
       "2                     None             ASIAN                   None   \n",
       "3                     None             ASIAN                   None   \n",
       "4                     None             ASIAN                   None   \n",
       "5                     None             ASIAN                   None   \n",
       "6                     None             ASIAN                   None   \n",
       "7                     None             ASIAN                   None   \n",
       "8                     None             ASIAN                   None   \n",
       "9                     None             ASIAN                   None   \n",
       "\n",
       "  ethnicity_source_value ethnicity_source_concept_id  \n",
       "0                   None                        None  \n",
       "1                   None                        None  \n",
       "2                   None                        None  \n",
       "3                   None                        None  \n",
       "4                   None                        None  \n",
       "5                   None                        None  \n",
       "6                   None                        None  \n",
       "7                   None                        None  \n",
       "8                   None                        None  \n",
       "9                   None                        None  \n",
       "\n",
       "[10 rows x 24 columns]"
      ]
     },
     "execution_count": 199,
     "metadata": {},
     "output_type": "execute_result"
    }
   ],
   "source": [
    "query = \"\"\"\n",
    "SELECT * \n",
    "FROM person\n",
    "LIMIT 10;\n",
    "\"\"\"\n",
    "\n",
    "import pandas as pd\n",
    "pd.read_sql_query(query, conn)"
   ]
  },
  {
   "cell_type": "markdown",
   "metadata": {},
   "source": [
    "A quick visualization wouldn't hurt"
   ]
  },
  {
   "cell_type": "code",
   "execution_count": 200,
   "metadata": {
    "collapsed": true
   },
   "outputs": [],
   "source": [
    "df = pd.read_sql_query('select person_id, year_of_birth, gender_source_value as gender from person limit 500;', conn)"
   ]
  },
  {
   "cell_type": "code",
   "execution_count": 201,
   "metadata": {
    "collapsed": false
   },
   "outputs": [
    {
     "data": {
      "text/plain": [
       "<matplotlib.text.Text at 0x11eba1518>"
      ]
     },
     "execution_count": 201,
     "metadata": {},
     "output_type": "execute_result"
    },
    {
     "data": {
      "image/png": "[encoded data removed]",
      "text/plain": [
       "<matplotlib.figure.Figure at 0x11ec25dd8>"
      ]
     },
     "metadata": {},
     "output_type": "display_data"
    }
   ],
   "source": [
    "import matplotlib.pyplot as plt\n",
    "import seaborn as sns\n",
    "%matplotlib inline\n",
    "sns.set_style(\"whitegrid\")\n",
    "fig = sns.distplot(df[\"year_of_birth\"], bins=20)\n",
    "fig.figure.suptitle(\"Split for year of birth\", fontsize = 18)\n",
    "plt.xlabel('Year of birth', fontsize=12)"
   ]
  },
  {
   "cell_type": "markdown",
   "metadata": {},
   "source": [
    "Alright, the data needs some processing but the access works. Let's confirm this on another table:"
   ]
  },
  {
   "cell_type": "code",
   "execution_count": 202,
   "metadata": {
    "collapsed": false
   },
   "outputs": [
    {
     "data": {
      "text/html": [
       "<div>\n",
       "<style>\n",
       "    .dataframe thead tr:only-child th {\n",
       "        text-align: right;\n",
       "    }\n",
       "\n",
       "    .dataframe thead th {\n",
       "        text-align: left;\n",
       "    }\n",
       "\n",
       "    .dataframe tbody tr th {\n",
       "        vertical-align: top;\n",
       "    }\n",
       "</style>\n",
       "<table border=\"1\" class=\"dataframe\">\n",
       "  <thead>\n",
       "    <tr style=\"text-align: right;\">\n",
       "      <th></th>\n",
       "      <th>L3</th>\n",
       "    </tr>\n",
       "  </thead>\n",
       "  <tbody>\n",
       "    <tr>\n",
       "      <th>0</th>\n",
       "      <td>58976</td>\n",
       "    </tr>\n",
       "  </tbody>\n",
       "</table>\n",
       "</div>"
      ],
      "text/plain": [
       "      L3\n",
       "0  58976"
      ]
     },
     "execution_count": 202,
     "metadata": {},
     "output_type": "execute_result"
    }
   ],
   "source": [
    "query = \"\"\"\n",
    "SELECT count(*) \n",
    "FROM visit_occurrence;\n",
    "\"\"\"\n",
    "\n",
    "pd.read_sql_query(query, conn)"
   ]
  },
  {
   "cell_type": "markdown",
   "metadata": {
    "collapsed": true
   },
   "source": [
    "We are now up and running. Let's dive into the real work!"
   ]
  },
  {
   "cell_type": "markdown",
   "metadata": {},
   "source": [
    "# EDA\n",
    "\n",
    "Conduct your analysis by implementing the different functions in the fleming_lib folder"
   ]
  },
  {
   "cell_type": "markdown",
   "metadata": {},
   "source": [
    "Let's test the module"
   ]
  },
  {
   "cell_type": "code",
   "execution_count": 45,
   "metadata": {
    "collapsed": false
   },
   "outputs": [
    {
     "name": "stdout",
     "output_type": "stream",
     "text": []
    }
   ],
   "source": [
    "from fleming_lib.tools import progress_bar\n",
    "\n",
    "for i in range(1000):\n",
    "    progress_bar(i + 1, 1000)"
   ]
  },
  {
   "cell_type": "code",
   "execution_count": 46,
   "metadata": {
    "collapsed": false
   },
   "outputs": [
    {
     "name": "stdout",
     "output_type": "stream",
     "text": [
      "My IGS-II is: 0\n"
     ]
    }
   ],
   "source": [
    "from fleming_lib.indicators import compute_igs2_score\n",
    "print('My IGS-II is: '+ str(compute_igs2_score()))"
   ]
  },
  {
   "cell_type": "code",
   "execution_count": null,
   "metadata": {
    "collapsed": true
   },
   "outputs": [],
   "source": []
  }
 ],
 "metadata": {
  "kernelspec": {
   "display_name": "Python 3",
   "language": "python",
   "name": "python3"
  },
  "language_info": {
   "codemirror_mode": {
    "name": "ipython",
    "version": 3
   },
   "file_extension": ".py",
   "mimetype": "text/x-python",
   "name": "python",
   "nbconvert_exporter": "python",
   "pygments_lexer": "ipython3",
   "version": "3.5.4"
  }
 },
 "nbformat": 4,
 "nbformat_minor": 2
}
