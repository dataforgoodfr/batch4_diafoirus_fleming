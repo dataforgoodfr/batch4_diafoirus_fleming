{
 "cells": [
  {
   "cell_type": "markdown",
   "metadata": {},
   "source": [
    "# Calculate SOFA Score"
   ]
  },
  {
   "cell_type": "markdown",
   "metadata": {},
   "source": [
    "#### https://www.researchgate.net/publication/14361654_The_SOFA_Sepsis-related_Organ_Failure_Assessment_score_to_describe_organ_dysfunctionfailure_On_behalf_of_the_Working_Group_on_Sepsis-Related_Problems_of_the_European_Society_of_Intensive_Care_Medicine"
   ]
  },
  {
   "cell_type": "code",
   "execution_count": 2,
   "metadata": {
    "collapsed": true
   },
   "outputs": [],
   "source": [
    "def Calculate_Sofa(paO2, platelets, bilirubin, map, dopamine, epinephrine, norepinephrine, glasgow_coma_score, creatinine):\n",
    "    sofa_score = 0 \n",
    "    if(paO2<100):\n",
    "        sofa_score+=4 \n",
    "    elif(paO2<200):\n",
    "        sofa_score+=3\n",
    "    elif(paO2<300):\n",
    "        sofa_score+=2\n",
    "    else:\n",
    "        sofa_score+=1\n",
    "\n",
    "    if(platelets<20):\n",
    "        sofa_score+=4 \n",
    "    elif(platelets<50):\n",
    "        sofa_score+=3\n",
    "    elif(platelets<100):\n",
    "        sofa_score+=2\n",
    "    else:\n",
    "        sofa_score+=1  \n",
    "        \n",
    "    if(bilirubin<2):\n",
    "        sofa_score+=1 \n",
    "    elif(bilirubin<6):\n",
    "        sofa_score+=2\n",
    "    elif(bilirubin<12):\n",
    "        sofa_score+=3\n",
    "    else:\n",
    "        sofa_score+=4\n",
    "        \n",
    "           \n",
    "    if(dopamine>15 or epinephrine > 0.1 or norepinephrine > 0.1):\n",
    "        sofa_score+=4 \n",
    "    elif(dopamine>5 or epinephrine <= 0.1 or norepinephrine <= 0.1):\n",
    "        sofa_score+=3\n",
    "    elif(dopamine<=5):\n",
    "        sofa_score+=2\n",
    "    elif(map<70):\n",
    "        sofa_score+=1\n",
    "        \n",
    "    if(glasgow_coma_score<6):\n",
    "        sofa_score+=4 \n",
    "    elif(glasgow_coma_score<9):\n",
    "        sofa_score+=3\n",
    "    elif(glasgow_coma_score<12):\n",
    "        sofa_score+=2\n",
    "    else:\n",
    "        sofa_score+=1\n",
    "        \n",
    "    if(creatinine>5):\n",
    "        sofa_score+=4 \n",
    "    elif(creatinine>3.5):\n",
    "        sofa_score+=3\n",
    "    elif(creatinine>2):\n",
    "        sofa_score+=2\n",
    "    else:\n",
    "        sofa_score+=1\n",
    "    return sofa_score\n"
   ]
  },
  {
   "cell_type": "code",
   "execution_count": 3,
   "metadata": {},
   "outputs": [
    {
     "data": {
      "text/plain": [
       "17"
      ]
     },
     "execution_count": 3,
     "metadata": {},
     "output_type": "execute_result"
    }
   ],
   "source": [
    "Calculate_Sofa(152, 60, 5, 50, 14, 0.09, 0.07, 2, 3.8)"
   ]
  },
  {
   "cell_type": "code",
   "execution_count": null,
   "metadata": {
    "collapsed": true
   },
   "outputs": [],
   "source": []
  },
  {
   "cell_type": "code",
   "execution_count": null,
   "metadata": {
    "collapsed": true
   },
   "outputs": [],
   "source": []
  },
  {
   "cell_type": "code",
   "execution_count": null,
   "metadata": {
    "collapsed": true
   },
   "outputs": [],
   "source": []
  }
 ],
 "metadata": {
  "kernelspec": {
   "display_name": "Python 3",
   "language": "python",
   "name": "python3"
  },
  "language_info": {
   "codemirror_mode": {
    "name": "ipython",
    "version": 3
   },
   "file_extension": ".py",
   "mimetype": "text/x-python",
   "name": "python",
   "nbconvert_exporter": "python",
   "pygments_lexer": "ipython3",
   "version": "3.6.1"
  }
 },
 "nbformat": 4,
 "nbformat_minor": 2
}
