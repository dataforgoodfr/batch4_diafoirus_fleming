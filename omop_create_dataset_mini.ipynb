{
 "cells": [
  {
   "cell_type": "code",
   "execution_count": 1,
   "metadata": {
    "ExecuteTime": {
     "end_time": "2018-05-16T12:39:37.363941Z",
     "start_time": "2018-05-16T12:39:37.324227Z"
    }
   },
   "outputs": [
    {
     "name": "stdout",
     "output_type": "stream",
     "text": [
      "[INFO] adding /home/paulroujansky/git/DataForGood/batch4_diafoirus_fleming to sys.path\n"
     ]
    }
   ],
   "source": [
    "# Add private path to 'batch4_diafoirus_fleming'\n",
    "import __init__"
   ]
  },
  {
   "cell_type": "code",
   "execution_count": 2,
   "metadata": {
    "ExecuteTime": {
     "end_time": "2018-05-16T12:36:12.684962Z",
     "start_time": "2018-05-16T12:36:12.313297Z"
    },
    "collapsed": true
   },
   "outputs": [],
   "source": [
    "import pandas as pd\n",
    "import numpy as np\n",
    "import pickle as pkl\n",
    "\n",
    "from fleming_lib.dataset import create_dataset\n",
    "from fleming_lib.tools import connect_to_omop"
   ]
  },
  {
   "cell_type": "code",
   "execution_count": 3,
   "metadata": {
    "ExecuteTime": {
     "end_time": "2018-05-16T12:36:22.093480Z",
     "start_time": "2018-05-16T12:36:21.712337Z"
    },
    "collapsed": true
   },
   "outputs": [],
   "source": [
    "# Open a connection to OMOP\n",
    "conn = connect_to_omop()"
   ]
  },
  {
   "cell_type": "code",
   "execution_count": 11,
   "metadata": {
    "ExecuteTime": {
     "end_time": "2018-05-13T16:01:17.616486Z",
     "start_time": "2018-05-13T16:00:55.898879Z"
    }
   },
   "outputs": [
    {
     "name": "stdout",
     "output_type": "stream",
     "text": [
      "Batch 1/1 - Done                                                                                     [21 s      ]\n"
     ]
    }
   ],
   "source": [
    "# Define list of patients\n",
    "list_patients = [62063368, 62063384, 62063393]\n",
    "\n",
    "# Create dataset\n",
    "dataset = create_dataset(conn, list_patients=list_patients, n_patients_per_batch=10, verbose=True)"
   ]
  },
  {
   "cell_type": "code",
   "execution_count": 8,
   "metadata": {
    "ExecuteTime": {
     "end_time": "2018-05-13T15:36:04.156410Z",
     "start_time": "2018-05-13T15:36:04.048068Z"
    },
    "collapsed": true
   },
   "outputs": [],
   "source": [
    "# Save dataset\n",
    "fname = 'dataset_omop'\n",
    "# - to CSV:\n",
    "dataset.to_csv(fname + '.csv', sep='\\t', encoding='utf-8', index=False)\n",
    "# - to Pickle:\n",
    "pkl.dump(dataset, open(fname + '.pkl', 'wb'))"
   ]
  },
  {
   "cell_type": "code",
   "execution_count": null,
   "metadata": {
    "collapsed": true
   },
   "outputs": [],
   "source": []
  }
 ],
 "metadata": {
  "kernelspec": {
   "display_name": "Python 3",
   "language": "python",
   "name": "python3"
  },
  "language_info": {
   "codemirror_mode": {
    "name": "ipython",
    "version": 3
   },
   "file_extension": ".py",
   "mimetype": "text/x-python",
   "name": "python",
   "nbconvert_exporter": "python",
   "pygments_lexer": "ipython3",
   "version": "3.6.3"
  },
  "latex_envs": {
   "LaTeX_envs_menu_present": true,
   "autoclose": false,
   "autocomplete": true,
   "bibliofile": "biblio.bib",
   "cite_by": "apalike",
   "current_citInitial": 1,
   "eqLabelWithNumbers": true,
   "eqNumInitial": 1,
   "hotkeys": {
    "equation": "Ctrl-E",
    "itemize": "Ctrl-I"
   },
   "labels_anchors": false,
   "latex_user_defs": false,
   "report_style_numbering": false,
   "user_envs_cfg": false
  },
  "toc": {
   "nav_menu": {},
   "number_sections": true,
   "sideBar": true,
   "skip_h1_title": false,
   "toc_cell": false,
   "toc_position": {},
   "toc_section_display": "block",
   "toc_window_display": false
  }
 },
 "nbformat": 4,
 "nbformat_minor": 2
}
