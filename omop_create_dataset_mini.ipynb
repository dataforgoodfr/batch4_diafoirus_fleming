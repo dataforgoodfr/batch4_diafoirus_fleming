{
 "cells": [
  {
   "cell_type": "code",
   "execution_count": 2,
   "metadata": {
    "ExecuteTime": {
     "end_time": "2018-05-13T15:33:45.643899Z",
     "start_time": "2018-05-13T15:33:45.450753Z"
    },
    "collapsed": true
   },
   "outputs": [],
   "source": [
    "# Get your credentials\n",
    "import numpy as np\n",
    "omop_login = np.load('full_omop_login.npy').item()\n",
    "\n",
    "# Open a connection to OMOP\n",
    "from fleming_lib.tools import connect_to_omop\n",
    "conn = connect_to_omop(login_dict=omop_login)\n",
    "\n",
    "# Get ready for SQL query processing\n",
    "import pandas as pd"
   ]
  },
  {
   "cell_type": "code",
   "execution_count": 6,
   "metadata": {
    "ExecuteTime": {
     "end_time": "2018-05-13T15:35:14.472687Z",
     "start_time": "2018-05-13T15:35:14.467028Z"
    },
    "collapsed": true
   },
   "outputs": [],
   "source": [
    "list_patients = [62063368, 62063384, 62063393]"
   ]
  },
  {
   "cell_type": "code",
   "execution_count": null,
   "metadata": {
    "ExecuteTime": {
     "start_time": "2018-05-13T15:35:15.073Z"
    }
   },
   "outputs": [
    {
     "name": "stdout",
     "output_type": "stream",
     "text": [
      "Extracting meta data...                                                                              [0 s       ]\r"
     ]
    }
   ],
   "source": [
    "from fleming_lib.dataset import create_dataset\n",
    "\n",
    "dataset = create_dataset(conn, list_patients=list_patients, n_patients_per_batch=10, verbose=True)"
   ]
  },
  {
   "cell_type": "code",
   "execution_count": null,
   "metadata": {
    "collapsed": true
   },
   "outputs": [],
   "source": [
    "dataset.to_csv('dataset_omop.csv', sep='\\t', encoding='utf-8', index=False)"
   ]
  }
 ],
 "metadata": {
  "kernelspec": {
   "display_name": "Python 3",
   "language": "python",
   "name": "python3"
  },
  "language_info": {
   "codemirror_mode": {
    "name": "ipython",
    "version": 3
   },
   "file_extension": ".py",
   "mimetype": "text/x-python",
   "name": "python",
   "nbconvert_exporter": "python",
   "pygments_lexer": "ipython3",
   "version": "3.6.3"
  },
  "latex_envs": {
   "LaTeX_envs_menu_present": true,
   "autoclose": false,
   "autocomplete": true,
   "bibliofile": "biblio.bib",
   "cite_by": "apalike",
   "current_citInitial": 1,
   "eqLabelWithNumbers": true,
   "eqNumInitial": 1,
   "hotkeys": {
    "equation": "Ctrl-E",
    "itemize": "Ctrl-I"
   },
   "labels_anchors": false,
   "latex_user_defs": false,
   "report_style_numbering": false,
   "user_envs_cfg": false
  },
  "toc": {
   "nav_menu": {},
   "number_sections": true,
   "sideBar": true,
   "skip_h1_title": false,
   "toc_cell": false,
   "toc_position": {},
   "toc_section_display": "block",
   "toc_window_display": false
  }
 },
 "nbformat": 4,
 "nbformat_minor": 2
}
