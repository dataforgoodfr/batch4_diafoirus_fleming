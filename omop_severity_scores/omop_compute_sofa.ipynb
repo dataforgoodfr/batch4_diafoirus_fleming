{
 "cells": [
  {
   "cell_type": "markdown",
   "metadata": {},
   "source": [
    "##### Compute SOFA score"
   ]
  },
  {
   "cell_type": "markdown",
   "metadata": {},
   "source": [
    "Connect to database"
   ]
  },
  {
   "cell_type": "code",
   "execution_count": 9,
   "metadata": {
    "ExecuteTime": {
     "end_time": "2018-05-17T11:15:29.946447Z",
     "start_time": "2018-05-17T11:15:29.888971Z"
    }
   },
   "outputs": [],
   "source": [
    "import __init__"
   ]
  },
  {
   "cell_type": "code",
   "execution_count": 11,
   "metadata": {
    "ExecuteTime": {
     "end_time": "2018-05-17T11:15:31.472628Z",
     "start_time": "2018-05-17T11:15:30.464946Z"
    }
   },
   "outputs": [],
   "source": [
    "import numpy as np\n",
    "import pandas as pd\n",
    "import datetime\n",
    "\n",
    "# Open a connection to OMOP\n",
    "from fleming_lib.tools import connect_to_omop\n",
    "from fleming_lib.severity_scores import compute_sofa_score\n",
    "conn = connect_to_omop()"
   ]
  },
  {
   "cell_type": "code",
   "execution_count": 12,
   "metadata": {
    "ExecuteTime": {
     "end_time": "2018-05-17T11:15:38.877912Z",
     "start_time": "2018-05-17T11:15:38.873844Z"
    }
   },
   "outputs": [],
   "source": [
    "patient_id = (62063368, 62106569)  # person_id"
   ]
  },
  {
   "cell_type": "code",
   "execution_count": 17,
   "metadata": {
    "ExecuteTime": {
     "end_time": "2018-05-17T11:16:21.803090Z",
     "start_time": "2018-05-17T11:16:16.882400Z"
    }
   },
   "outputs": [
    {
     "data": {
      "text/html": [
       "<div>\n",
       "<style scoped>\n",
       "    .dataframe tbody tr th:only-of-type {\n",
       "        vertical-align: middle;\n",
       "    }\n",
       "\n",
       "    .dataframe tbody tr th {\n",
       "        vertical-align: top;\n",
       "    }\n",
       "\n",
       "    .dataframe thead th {\n",
       "        text-align: right;\n",
       "    }\n",
       "</style>\n",
       "<table border=\"1\" class=\"dataframe\">\n",
       "  <thead>\n",
       "    <tr style=\"text-align: right;\">\n",
       "      <th></th>\n",
       "      <th>person_id</th>\n",
       "      <th>measurement_datetime</th>\n",
       "      <th>measurement_concept_id</th>\n",
       "      <th>measurement_concept_name</th>\n",
       "      <th>value_source_value</th>\n",
       "      <th>unit_source_value</th>\n",
       "    </tr>\n",
       "  </thead>\n",
       "  <tbody>\n",
       "    <tr>\n",
       "      <th>0</th>\n",
       "      <td>62063368</td>\n",
       "      <td>2188-11-12 07:15:00</td>\n",
       "      <td>3016723</td>\n",
       "      <td>Creatinine serum/plasma</td>\n",
       "      <td>0.5</td>\n",
       "      <td>mg/dL</td>\n",
       "    </tr>\n",
       "    <tr>\n",
       "      <th>1</th>\n",
       "      <td>62063368</td>\n",
       "      <td>2188-11-12 07:15:00</td>\n",
       "      <td>3024929</td>\n",
       "      <td>Platelets [#/volume] in Blood by Automated count</td>\n",
       "      <td>720</td>\n",
       "      <td>K/uL</td>\n",
       "    </tr>\n",
       "    <tr>\n",
       "      <th>2</th>\n",
       "      <td>62063368</td>\n",
       "      <td>2188-11-12 08:04:00</td>\n",
       "      <td>3024128</td>\n",
       "      <td>Total Bilirubin serum/plasma</td>\n",
       "      <td>0.3</td>\n",
       "      <td>mg/dL</td>\n",
       "    </tr>\n",
       "    <tr>\n",
       "      <th>3</th>\n",
       "      <td>62063368</td>\n",
       "      <td>2188-11-12 10:00:00</td>\n",
       "      <td>3027598</td>\n",
       "      <td>Mean blood pressure</td>\n",
       "      <td>107.33300018310547</td>\n",
       "      <td>mmHg</td>\n",
       "    </tr>\n",
       "    <tr>\n",
       "      <th>4</th>\n",
       "      <td>62063368</td>\n",
       "      <td>2188-11-12 10:00:00</td>\n",
       "      <td>3032652</td>\n",
       "      <td>Glasgow coma scale</td>\n",
       "      <td>15</td>\n",
       "      <td>points</td>\n",
       "    </tr>\n",
       "    <tr>\n",
       "      <th>5</th>\n",
       "      <td>62063368</td>\n",
       "      <td>2188-11-12 10:00:00</td>\n",
       "      <td>3016502</td>\n",
       "      <td>Oxygen saturation in Arterial blood</td>\n",
       "      <td>97</td>\n",
       "      <td>%</td>\n",
       "    </tr>\n",
       "    <tr>\n",
       "      <th>6</th>\n",
       "      <td>62063368</td>\n",
       "      <td>2188-11-12 10:30:00</td>\n",
       "      <td>3016502</td>\n",
       "      <td>Oxygen saturation in Arterial blood</td>\n",
       "      <td>98</td>\n",
       "      <td>%</td>\n",
       "    </tr>\n",
       "    <tr>\n",
       "      <th>7</th>\n",
       "      <td>62063368</td>\n",
       "      <td>2188-11-12 10:30:00</td>\n",
       "      <td>3027598</td>\n",
       "      <td>Mean blood pressure</td>\n",
       "      <td>110</td>\n",
       "      <td>mmHg</td>\n",
       "    </tr>\n",
       "    <tr>\n",
       "      <th>8</th>\n",
       "      <td>62063368</td>\n",
       "      <td>2188-11-12 10:45:00</td>\n",
       "      <td>3016502</td>\n",
       "      <td>Oxygen saturation in Arterial blood</td>\n",
       "      <td>97</td>\n",
       "      <td>%</td>\n",
       "    </tr>\n",
       "    <tr>\n",
       "      <th>9</th>\n",
       "      <td>62063368</td>\n",
       "      <td>2188-11-12 10:45:00</td>\n",
       "      <td>3027598</td>\n",
       "      <td>Mean blood pressure</td>\n",
       "      <td>112.66699981689453</td>\n",
       "      <td>mmHg</td>\n",
       "    </tr>\n",
       "  </tbody>\n",
       "</table>\n",
       "</div>"
      ],
      "text/plain": [
       "   person_id measurement_datetime  measurement_concept_id  \\\n",
       "0   62063368  2188-11-12 07:15:00                 3016723   \n",
       "1   62063368  2188-11-12 07:15:00                 3024929   \n",
       "2   62063368  2188-11-12 08:04:00                 3024128   \n",
       "3   62063368  2188-11-12 10:00:00                 3027598   \n",
       "4   62063368  2188-11-12 10:00:00                 3032652   \n",
       "5   62063368  2188-11-12 10:00:00                 3016502   \n",
       "6   62063368  2188-11-12 10:30:00                 3016502   \n",
       "7   62063368  2188-11-12 10:30:00                 3027598   \n",
       "8   62063368  2188-11-12 10:45:00                 3016502   \n",
       "9   62063368  2188-11-12 10:45:00                 3027598   \n",
       "\n",
       "                           measurement_concept_name  value_source_value  \\\n",
       "0                           Creatinine serum/plasma                 0.5   \n",
       "1  Platelets [#/volume] in Blood by Automated count                 720   \n",
       "2                      Total Bilirubin serum/plasma                 0.3   \n",
       "3                               Mean blood pressure  107.33300018310547   \n",
       "4                                Glasgow coma scale                  15   \n",
       "5               Oxygen saturation in Arterial blood                  97   \n",
       "6               Oxygen saturation in Arterial blood                  98   \n",
       "7                               Mean blood pressure                 110   \n",
       "8               Oxygen saturation in Arterial blood                  97   \n",
       "9                               Mean blood pressure  112.66699981689453   \n",
       "\n",
       "  unit_source_value  \n",
       "0             mg/dL  \n",
       "1              K/uL  \n",
       "2             mg/dL  \n",
       "3              mmHg  \n",
       "4            points  \n",
       "5                 %  \n",
       "6                 %  \n",
       "7              mmHg  \n",
       "8                 %  \n",
       "9              mmHg  "
      ]
     },
     "execution_count": 17,
     "metadata": {},
     "output_type": "execute_result"
    }
   ],
   "source": [
    "# Get data\n",
    "\n",
    "query = \"\"\"\n",
    "select\n",
    "    distinct m.person_id, m.measurement_datetime,m.measurement_concept_id, m.measurement_concept_name, m.value_source_value, m.unit_source_value\n",
    "from \n",
    "    measurement m \n",
    "\n",
    "where\n",
    "    m.measurement_concept_id in\n",
    "    (3024929,   -- platelets\n",
    "     3016502,   -- pa02\n",
    "     3024128,   -- bilirubin\n",
    "     3027598,   -- map_bp\n",
    "     3016723 ,  -- creatinine\n",
    "     3032652    -- glasgow coma scale\n",
    "    )\n",
    "  \n",
    "    \n",
    "and m.person_id in {}\n",
    "order by m.person_id, m.measurement_datetime\n",
    ";\"\"\".format(patient_id)\n",
    "\n",
    "measures = pd.read_sql_query(query, conn)\n",
    "measures.iloc[:10]"
   ]
  },
  {
   "cell_type": "markdown",
   "metadata": {},
   "source": [
    "#### Change type datetime"
   ]
  },
  {
   "cell_type": "code",
   "execution_count": 24,
   "metadata": {
    "ExecuteTime": {
     "end_time": "2018-05-17T11:16:22.800085Z",
     "start_time": "2018-05-17T11:16:22.778856Z"
    }
   },
   "outputs": [],
   "source": [
    "# Select date range\n",
    "df=measures\n",
    "df = df.set_index(['measurement_datetime'])\n",
    "df=df.loc['2188-11-12 13:00:00':'2188-11-20 13:00:00']"
   ]
  },
  {
   "cell_type": "code",
   "execution_count": 27,
   "metadata": {},
   "outputs": [],
   "source": [
    "#get features\n",
    "\n",
    "# Oxygen saturation in Arterial blood\n",
    "oxygenSat=df[df['measurement_concept_name']=='Oxygen saturation in Arterial blood']\n",
    "pa02=oxygenSat['value_source_value']\n",
    "pa02=pa02[0]\n",
    "pa02=pd.to_numeric(pa02)\n",
    "\n",
    "# Platelets\n",
    "platelets=df[df['measurement_concept_name']=='Platelets [#/volume] in Blood by Automated count']\n",
    "pla=platelets['value_source_value']\n",
    "pla=pla[0]\n",
    "pla=pd.to_numeric(pla)\n",
    "\n",
    "# Total Bilirubin serum/plasma\n",
    "bilirubin=df[df['measurement_concept_name']=='Total Bilirubin serum/plasma']\n",
    "bil=bilirubin['value_source_value']\n",
    "bil=bil[0]\n",
    "bil=pd.to_numeric(bil)\n",
    "\n",
    "# Mean blood pressure\n",
    "mean_blood_pressure=df[df['measurement_concept_name']=='Mean blood pressure']\n",
    "mbp=mean_blood_pressure['value_source_value']\n",
    "mbp=mbp[0]\n",
    "mbp=pd.to_numeric(mbp)\n",
    "\n",
    "# Dopamine\n",
    "dop=0\n",
    "\n",
    "# Glasgow coma scale\n",
    "glasgow_coma_scale=df[df['measurement_concept_name']=='Glasgow coma scale']\n",
    "gcs=glasgow_coma_scale['value_source_value']\n",
    "gcs=gcs[0]\n",
    "gcs=pd.to_numeric(gcs)\n",
    "\n",
    "# Creatinine\n",
    "creatinine=df[df['measurement_concept_name']=='Creatinine serum/plasma']\n",
    "cre=creatinine['value_source_value']\n",
    "cre=cre[0]\n",
    "cre=pd.to_numeric(cre)\n"
   ]
  },
  {
   "cell_type": "code",
   "execution_count": 29,
   "metadata": {},
   "outputs": [
    {
     "name": "stdout",
     "output_type": "stream",
     "text": [
      "10\n"
     ]
    }
   ],
   "source": [
    "# Compute SOFA score\n",
    "score=compute_sofa_score(pa02,pla,bil,mbp,dop,gcs,cre)\n",
    "print(score)"
   ]
  },
  {
   "cell_type": "code",
   "execution_count": 22,
   "metadata": {},
   "outputs": [
    {
     "data": {
      "text/plain": [
       "Series([], Name: value_source_value, dtype: object)"
      ]
     },
     "execution_count": 22,
     "metadata": {},
     "output_type": "execute_result"
    }
   ],
   "source": [
    "pa02.head()"
   ]
  },
  {
   "cell_type": "code",
   "execution_count": 30,
   "metadata": {},
   "outputs": [
    {
     "data": {
      "text/plain": [
       "93"
      ]
     },
     "execution_count": 30,
     "metadata": {},
     "output_type": "execute_result"
    }
   ],
   "source": [
    "pa02"
   ]
  },
  {
   "cell_type": "code",
   "execution_count": null,
   "metadata": {},
   "outputs": [],
   "source": []
  }
 ],
 "metadata": {
  "kernelspec": {
   "display_name": "Python 3",
   "language": "python",
   "name": "python3"
  },
  "language_info": {
   "codemirror_mode": {
    "name": "ipython",
    "version": 3
   },
   "file_extension": ".py",
   "mimetype": "text/x-python",
   "name": "python",
   "nbconvert_exporter": "python",
   "pygments_lexer": "ipython3",
   "version": "3.6.5"
  },
  "latex_envs": {
   "LaTeX_envs_menu_present": true,
   "autoclose": false,
   "autocomplete": true,
   "bibliofile": "biblio.bib",
   "cite_by": "apalike",
   "current_citInitial": 1,
   "eqLabelWithNumbers": true,
   "eqNumInitial": 1,
   "hotkeys": {
    "equation": "Ctrl-E",
    "itemize": "Ctrl-I"
   },
   "labels_anchors": false,
   "latex_user_defs": false,
   "report_style_numbering": false,
   "user_envs_cfg": false
  },
  "toc": {
   "nav_menu": {},
   "number_sections": true,
   "sideBar": false,
   "skip_h1_title": false,
   "toc_cell": false,
   "toc_position": {
    "height": "43px",
    "left": "39px",
    "right": "1606px",
    "top": "107.133px",
    "width": "210px"
   },
   "toc_section_display": "block",
   "toc_window_display": true
  }
 },
 "nbformat": 4,
 "nbformat_minor": 2
}
