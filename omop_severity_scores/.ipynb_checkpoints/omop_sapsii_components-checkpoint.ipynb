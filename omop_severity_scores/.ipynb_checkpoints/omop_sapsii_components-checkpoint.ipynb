{
 "cells": [
  {
   "cell_type": "markdown",
   "metadata": {},
   "source": [
    "# Components of SAPS II"
   ]
  },
  {
   "cell_type": "markdown",
   "metadata": {},
   "source": [
    "This part deals with OMOP components of the simplified acute physiology score II (SAPS II) calculated with MIMIC here:\n",
    "\n",
    "https://github.com/MIT-LCP/mimic-code/blob/master/concepts/severityscores/sapsii.sql\n",
    "\n",
    "Elementary EDA will be performed around its components to handle how their call through OMOP.\n",
    "\n",
    "A succint call to the function computing an approximated score is provided at omop_sapsii_proxi."
   ]
  },
  {
   "cell_type": "code",
   "execution_count": 1,
   "metadata": {
    "collapsed": true
   },
   "outputs": [],
   "source": [
    "import os\n",
    "import sys\n",
    "module_path = os.path.abspath(os.path.join('/Users/jeremydesir/Documents/Fleming/batch4_diafoirus_fleming'))\n",
    "if module_path not in sys.path:\n",
    "    sys.path.append(module_path)"
   ]
  },
  {
   "cell_type": "code",
   "execution_count": 2,
   "metadata": {
    "collapsed": false
   },
   "outputs": [],
   "source": [
    "# Load external librairies\n",
    "import numpy as np\n",
    "import pandas as pd\n",
    "import matplotlib.pyplot as plt\n",
    "import seaborn as sns\n",
    "%matplotlib inline\n",
    "sns.set_style(\"whitegrid\")\n",
    "\n",
    "# Load internal librairies\n",
    "from fleming_lib.tools import connect_to_omop\n",
    "\n",
    "# Access the DB\n",
    "omop_login = np.load('full_omop_login.npy').item()\n",
    "conn = connect_to_omop(login_dict=omop_login)"
   ]
  },
  {
   "cell_type": "markdown",
   "metadata": {},
   "source": [
    "* ICU STAYS : Number of distinct patients in ICU"
   ]
  },
  {
   "cell_type": "code",
   "execution_count": 3,
   "metadata": {
    "collapsed": false
   },
   "outputs": [
    {
     "data": {
      "text/html": [
       "<div>\n",
       "<style>\n",
       "    .dataframe thead tr:only-child th {\n",
       "        text-align: right;\n",
       "    }\n",
       "\n",
       "    .dataframe thead th {\n",
       "        text-align: left;\n",
       "    }\n",
       "\n",
       "    .dataframe tbody tr th {\n",
       "        vertical-align: top;\n",
       "    }\n",
       "</style>\n",
       "<table border=\"1\" class=\"dataframe\">\n",
       "  <thead>\n",
       "    <tr style=\"text-align: right;\">\n",
       "      <th></th>\n",
       "      <th>num_totalstays_count</th>\n",
       "    </tr>\n",
       "  </thead>\n",
       "  <tbody>\n",
       "    <tr>\n",
       "      <th>0</th>\n",
       "      <td>46475</td>\n",
       "    </tr>\n",
       "  </tbody>\n",
       "</table>\n",
       "</div>"
      ],
      "text/plain": [
       "   num_totalstays_count\n",
       "0                 46475"
      ]
     },
     "execution_count": 3,
     "metadata": {},
     "output_type": "execute_result"
    }
   ],
   "source": [
    "query = \"\"\"\n",
    "SELECT COUNT(distinct person_id) AS num_totalstays_count\n",
    "FROM visit_detail\n",
    "WHERE visit_detail_concept_id = 581382                             -- concept.concept_name = 'Inpatient Intensive Care Facility'\n",
    "AND visit_type_concept_id = 2000000006;                            -- concept.concept_name = 'Ward and physical location'\n",
    "\"\"\"\n",
    "pd.read_sql_query(query, conn)"
   ]
  },
  {
   "cell_type": "markdown",
   "metadata": {},
   "source": [
    "** MEASUREMENT table **"
   ]
  },
  {
   "cell_type": "markdown",
   "metadata": {},
   "source": [
    "Regarding the OMOP's MEASUREMENT table, containing structured values available in MIMIC's chartevents, let's see how to perform the filtering of chartevents' itemid with OMOP.\n",
    "\n",
    "More precisely, the score computation requieres to extract CPAP with itemid taking the values : 467, 469 and 226732; corresponding to the labels : O2 Delivery Device, O2 Delivery Mode and O2 Delivery Device(s).\n",
    "\n",
    "Here is the OMOP associated mapping to these \"Oxygen Delivery Device\" fields."
   ]
  },
  {
   "cell_type": "code",
   "execution_count": 4,
   "metadata": {
    "collapsed": false
   },
   "outputs": [
    {
     "data": {
      "text/html": [
       "<div>\n",
       "<style>\n",
       "    .dataframe thead tr:only-child th {\n",
       "        text-align: right;\n",
       "    }\n",
       "\n",
       "    .dataframe thead th {\n",
       "        text-align: left;\n",
       "    }\n",
       "\n",
       "    .dataframe tbody tr th {\n",
       "        vertical-align: top;\n",
       "    }\n",
       "</style>\n",
       "<table border=\"1\" class=\"dataframe\">\n",
       "  <thead>\n",
       "    <tr style=\"text-align: right;\">\n",
       "      <th></th>\n",
       "      <th>concept_id</th>\n",
       "      <th>concept_name</th>\n",
       "      <th>domain_id</th>\n",
       "      <th>vocabulary_id</th>\n",
       "      <th>concept_class_id</th>\n",
       "      <th>standard_concept</th>\n",
       "      <th>concept_code</th>\n",
       "      <th>valid_start_date</th>\n",
       "      <th>valid_end_date</th>\n",
       "      <th>invalid_reason</th>\n",
       "    </tr>\n",
       "  </thead>\n",
       "  <tbody>\n",
       "    <tr>\n",
       "      <th>0</th>\n",
       "      <td>2001030754</td>\n",
       "      <td>label:[O2 Delivery Device(s)]dbsource:[metavis...</td>\n",
       "      <td>Measurement</td>\n",
       "      <td>MIMIC d_items</td>\n",
       "      <td>Respiratory</td>\n",
       "      <td>None</td>\n",
       "      <td>226732</td>\n",
       "      <td>1979-01-01</td>\n",
       "      <td>2099-01-01</td>\n",
       "      <td>None</td>\n",
       "    </tr>\n",
       "    <tr>\n",
       "      <th>1</th>\n",
       "      <td>2001019143</td>\n",
       "      <td>label:[O2 Delivery Device]dbsource:[carevue]li...</td>\n",
       "      <td>Measurement</td>\n",
       "      <td>MIMIC d_items</td>\n",
       "      <td>None</td>\n",
       "      <td>None</td>\n",
       "      <td>467</td>\n",
       "      <td>1979-01-01</td>\n",
       "      <td>2099-01-01</td>\n",
       "      <td>None</td>\n",
       "    </tr>\n",
       "    <tr>\n",
       "      <th>2</th>\n",
       "      <td>2001042894</td>\n",
       "      <td>Right Extremities:</td>\n",
       "      <td>Note Nlp</td>\n",
       "      <td>MIMIC Generated</td>\n",
       "      <td>Section</td>\n",
       "      <td>None</td>\n",
       "      <td>467</td>\n",
       "      <td>1979-01-01</td>\n",
       "      <td>2099-01-01</td>\n",
       "      <td>None</td>\n",
       "    </tr>\n",
       "    <tr>\n",
       "      <th>3</th>\n",
       "      <td>38000765</td>\n",
       "      <td>Other Factors Influencing Health Status</td>\n",
       "      <td>Observation</td>\n",
       "      <td>DRG</td>\n",
       "      <td>DRG</td>\n",
       "      <td>None</td>\n",
       "      <td>467</td>\n",
       "      <td>1970-01-01</td>\n",
       "      <td>2099-12-31</td>\n",
       "      <td>D</td>\n",
       "    </tr>\n",
       "    <tr>\n",
       "      <th>4</th>\n",
       "      <td>38001256</td>\n",
       "      <td>Revision of hip or knee replacement w CC</td>\n",
       "      <td>Observation</td>\n",
       "      <td>DRG</td>\n",
       "      <td>MS-DRG</td>\n",
       "      <td>S</td>\n",
       "      <td>467</td>\n",
       "      <td>1970-01-01</td>\n",
       "      <td>2099-12-31</td>\n",
       "      <td>None</td>\n",
       "    </tr>\n",
       "    <tr>\n",
       "      <th>5</th>\n",
       "      <td>2001042896</td>\n",
       "      <td>VAP bundle:</td>\n",
       "      <td>Note Nlp</td>\n",
       "      <td>MIMIC Generated</td>\n",
       "      <td>Section</td>\n",
       "      <td>None</td>\n",
       "      <td>469</td>\n",
       "      <td>1979-01-01</td>\n",
       "      <td>2099-01-01</td>\n",
       "      <td>None</td>\n",
       "    </tr>\n",
       "    <tr>\n",
       "      <th>6</th>\n",
       "      <td>38001258</td>\n",
       "      <td>Major joint replacement or reattachment of low...</td>\n",
       "      <td>Observation</td>\n",
       "      <td>DRG</td>\n",
       "      <td>MS-DRG</td>\n",
       "      <td>S</td>\n",
       "      <td>469</td>\n",
       "      <td>1970-01-01</td>\n",
       "      <td>2099-12-31</td>\n",
       "      <td>None</td>\n",
       "    </tr>\n",
       "    <tr>\n",
       "      <th>7</th>\n",
       "      <td>2001019145</td>\n",
       "      <td>label:[O2 Delivery Mode]dbsource:[carevue]link...</td>\n",
       "      <td>Measurement</td>\n",
       "      <td>MIMIC d_items</td>\n",
       "      <td>None</td>\n",
       "      <td>None</td>\n",
       "      <td>469</td>\n",
       "      <td>1979-01-01</td>\n",
       "      <td>2099-01-01</td>\n",
       "      <td>None</td>\n",
       "    </tr>\n",
       "    <tr>\n",
       "      <th>8</th>\n",
       "      <td>38000767</td>\n",
       "      <td>Principal Diagnosis Invalid As Discharge Diagn...</td>\n",
       "      <td>Observation</td>\n",
       "      <td>DRG</td>\n",
       "      <td>DRG</td>\n",
       "      <td>None</td>\n",
       "      <td>469</td>\n",
       "      <td>1970-01-01</td>\n",
       "      <td>2099-12-31</td>\n",
       "      <td>D</td>\n",
       "    </tr>\n",
       "  </tbody>\n",
       "</table>\n",
       "</div>"
      ],
      "text/plain": [
       "   concept_id                                       concept_name    domain_id  \\\n",
       "0  2001030754  label:[O2 Delivery Device(s)]dbsource:[metavis...  Measurement   \n",
       "1  2001019143  label:[O2 Delivery Device]dbsource:[carevue]li...  Measurement   \n",
       "2  2001042894                                 Right Extremities:     Note Nlp   \n",
       "3    38000765            Other Factors Influencing Health Status  Observation   \n",
       "4    38001256           Revision of hip or knee replacement w CC  Observation   \n",
       "5  2001042896                                        VAP bundle:     Note Nlp   \n",
       "6    38001258  Major joint replacement or reattachment of low...  Observation   \n",
       "7  2001019145  label:[O2 Delivery Mode]dbsource:[carevue]link...  Measurement   \n",
       "8    38000767  Principal Diagnosis Invalid As Discharge Diagn...  Observation   \n",
       "\n",
       "     vocabulary_id concept_class_id standard_concept concept_code  \\\n",
       "0    MIMIC d_items      Respiratory             None       226732   \n",
       "1    MIMIC d_items             None             None          467   \n",
       "2  MIMIC Generated          Section             None          467   \n",
       "3              DRG              DRG             None          467   \n",
       "4              DRG           MS-DRG                S          467   \n",
       "5  MIMIC Generated          Section             None          469   \n",
       "6              DRG           MS-DRG                S          469   \n",
       "7    MIMIC d_items             None             None          469   \n",
       "8              DRG              DRG             None          469   \n",
       "\n",
       "  valid_start_date valid_end_date invalid_reason  \n",
       "0       1979-01-01     2099-01-01           None  \n",
       "1       1979-01-01     2099-01-01           None  \n",
       "2       1979-01-01     2099-01-01           None  \n",
       "3       1970-01-01     2099-12-31              D  \n",
       "4       1970-01-01     2099-12-31           None  \n",
       "5       1979-01-01     2099-01-01           None  \n",
       "6       1970-01-01     2099-12-31           None  \n",
       "7       1979-01-01     2099-01-01           None  \n",
       "8       1970-01-01     2099-12-31              D  "
      ]
     },
     "execution_count": 4,
     "metadata": {},
     "output_type": "execute_result"
    }
   ],
   "source": [
    "query = \"\"\"\n",
    "SELECT * \n",
    "FROM concept \n",
    "WHERE concept_code in ('467', '469','226732')\n",
    "ORDER BY concept_code \n",
    ";\n",
    "\"\"\"\n",
    "pd.read_sql_query(query, conn)"
   ]
  },
  {
   "cell_type": "markdown",
   "metadata": {},
   "source": [
    "Let's try to retrieve the measurement_concept_id we need from the measurement_source_concept_id supposed to be the same than the concept_id shown above."
   ]
  },
  {
   "cell_type": "code",
   "execution_count": 5,
   "metadata": {
    "collapsed": false
   },
   "outputs": [
    {
     "data": {
      "text/html": [
       "<div>\n",
       "<style>\n",
       "    .dataframe thead tr:only-child th {\n",
       "        text-align: right;\n",
       "    }\n",
       "\n",
       "    .dataframe thead th {\n",
       "        text-align: left;\n",
       "    }\n",
       "\n",
       "    .dataframe tbody tr th {\n",
       "        vertical-align: top;\n",
       "    }\n",
       "</style>\n",
       "<table border=\"1\" class=\"dataframe\">\n",
       "  <thead>\n",
       "    <tr style=\"text-align: right;\">\n",
       "      <th></th>\n",
       "      <th>measurement_concept_id</th>\n",
       "      <th>measurement_concept_name</th>\n",
       "    </tr>\n",
       "  </thead>\n",
       "  <tbody>\n",
       "    <tr>\n",
       "      <th>0</th>\n",
       "      <td>4036936</td>\n",
       "      <td>Oxygen delivery</td>\n",
       "    </tr>\n",
       "  </tbody>\n",
       "</table>\n",
       "</div>"
      ],
      "text/plain": [
       "   measurement_concept_id measurement_concept_name\n",
       "0                 4036936          Oxygen delivery"
      ]
     },
     "execution_count": 5,
     "metadata": {},
     "output_type": "execute_result"
    }
   ],
   "source": [
    "query = \"\"\"\n",
    "SELECT distinct measurement_concept_id, measurement_concept_name \n",
    "FROM measurement\n",
    "WHERE measurement_type_concept_id = 44818701 -- physical examination\n",
    "AND measurement_source_concept_id IN (\n",
    "2001030754\n",
    ", 2001019143\n",
    ", 2001019145\n",
    ")\n",
    ";\n",
    "\"\"\"\n",
    "pd.read_sql_query(query, conn)"
   ]
  },
  {
   "cell_type": "markdown",
   "metadata": {},
   "source": [
    "Hopefully it's been mapped to a single measurement_concept_id !"
   ]
  },
  {
   "cell_type": "markdown",
   "metadata": {},
   "source": [
    "** CHEMICAL COMPONENTS **\n",
    "\n",
    "If we're given LOIC local_concept_id, the same than above applies to extract corresponding measurement_concept_id:"
   ]
  },
  {
   "cell_type": "code",
   "execution_count": 6,
   "metadata": {
    "collapsed": false
   },
   "outputs": [
    {
     "data": {
      "text/html": [
       "<div>\n",
       "<style>\n",
       "    .dataframe thead tr:only-child th {\n",
       "        text-align: right;\n",
       "    }\n",
       "\n",
       "    .dataframe thead th {\n",
       "        text-align: left;\n",
       "    }\n",
       "\n",
       "    .dataframe tbody tr th {\n",
       "        vertical-align: top;\n",
       "    }\n",
       "</style>\n",
       "<table border=\"1\" class=\"dataframe\">\n",
       "  <thead>\n",
       "    <tr style=\"text-align: right;\">\n",
       "      <th></th>\n",
       "      <th>measurement_concept_name</th>\n",
       "      <th>measurement_concept_id</th>\n",
       "    </tr>\n",
       "  </thead>\n",
       "  <tbody>\n",
       "    <tr>\n",
       "      <th>0</th>\n",
       "      <td>Hematocrit [Volume Fraction] of Blood by Autom...</td>\n",
       "      <td>3023314</td>\n",
       "    </tr>\n",
       "    <tr>\n",
       "      <th>1</th>\n",
       "      <td>Leukocytes [#/volume] in Blood by Manual count</td>\n",
       "      <td>3003282</td>\n",
       "    </tr>\n",
       "    <tr>\n",
       "      <th>2</th>\n",
       "      <td>Total Bilirubin serum/plasma</td>\n",
       "      <td>3024128</td>\n",
       "    </tr>\n",
       "    <tr>\n",
       "      <th>3</th>\n",
       "      <td>Potassium serum/plasma</td>\n",
       "      <td>3023103</td>\n",
       "    </tr>\n",
       "    <tr>\n",
       "      <th>4</th>\n",
       "      <td>Sodium serum/plasma</td>\n",
       "      <td>3019550</td>\n",
       "    </tr>\n",
       "    <tr>\n",
       "      <th>5</th>\n",
       "      <td>Platelets [#/volume] in Blood by Automated count</td>\n",
       "      <td>3024929</td>\n",
       "    </tr>\n",
       "    <tr>\n",
       "      <th>6</th>\n",
       "      <td>pH (acidity) in blood</td>\n",
       "      <td>3010421</td>\n",
       "    </tr>\n",
       "  </tbody>\n",
       "</table>\n",
       "</div>"
      ],
      "text/plain": [
       "                            measurement_concept_name  measurement_concept_id\n",
       "0  Hematocrit [Volume Fraction] of Blood by Autom...                 3023314\n",
       "1     Leukocytes [#/volume] in Blood by Manual count                 3003282\n",
       "2                       Total Bilirubin serum/plasma                 3024128\n",
       "3                             Potassium serum/plasma                 3023103\n",
       "4                                Sodium serum/plasma                 3019550\n",
       "5   Platelets [#/volume] in Blood by Automated count                 3024929\n",
       "6                              pH (acidity) in blood                 3010421"
      ]
     },
     "execution_count": 6,
     "metadata": {},
     "output_type": "execute_result"
    }
   ],
   "source": [
    "query = \"\"\"\n",
    "SELECT distinct measurement_concept_name, measurement_concept_id\n",
    "FROM measurement\n",
    "WHERE measurement_source_concept_id IN (\n",
    "2001031083,   -- pH (acidity) in blood\n",
    "2001031248,   -- Sodium serum/plasma\n",
    "2001031235,   -- Potassium serum/plasma \n",
    "2001031483,   -- Hematocrit [Volume Fraction] of Blood by Automated count\n",
    "2001031563,   -- Leukocytes [#/volume] in Blood by Manual count\n",
    "2001031149,   -- Total Bilirubin serum/plasma\n",
    "2001031527)   -- Platelets [#/volume] in Blood by Automated count\n",
    ";\n",
    "\"\"\"\n",
    "pd.read_sql_query(query, conn)"
   ]
  },
  {
   "cell_type": "markdown",
   "metadata": {},
   "source": [
    "* Example on measurement_concept_name = Sodium serum/plasma (\"Natrémie\" in french)\n"
   ]
  },
  {
   "cell_type": "code",
   "execution_count": 7,
   "metadata": {
    "collapsed": false
   },
   "outputs": [],
   "source": [
    "query_icu_natremie = \"\"\"\n",
    "WITH ie AS                          -- Equivalent to icustays\n",
    "( SELECT *\n",
    "  FROM visit_detail\n",
    "  WHERE visit_detail_concept_id = 581382              \n",
    "  AND visit_type_concept_id = 2000000006 \n",
    "  \n",
    "), natremie as \n",
    "\n",
    "( SELECT *\n",
    "  FROM measurement\n",
    "  WHERE measurement_concept_id = 3019550\n",
    ")\n",
    "\n",
    "SELECT value_as_number\n",
    "FROM natremie        \n",
    "INNER JOIN ie ON ie.person_id=natremie.person_id\n",
    "LIMIT 20000;\n",
    "\n",
    "\"\"\"\n",
    "df_icu_natremie = pd.read_sql_query(query_icu_natremie, conn)"
   ]
  },
  {
   "cell_type": "code",
   "execution_count": 8,
   "metadata": {
    "collapsed": false
   },
   "outputs": [
    {
     "data": {
      "text/plain": [
       "<matplotlib.lines.Line2D at 0x1104c85f8>"
      ]
     },
     "execution_count": 8,
     "metadata": {},
     "output_type": "execute_result"
    },
    {
     "data": {
      "image/png": "[encoded data removed]",
      "text/plain": [
       "<matplotlib.figure.Figure at 0x110379198>"
      ]
     },
     "metadata": {},
     "output_type": "display_data"
    }
   ],
   "source": [
    "fig = sns.distplot(df_icu_natremie[\"value_as_number\"], bins=20)\n",
    "fig.figure.suptitle(\"Distribution of Sodium serum/plasma (mEq/l) on ICU Stays\", fontsize = 18)\n",
    "plt.xlabel('Sodium serum/plasma (mEq/l) value', fontsize=12)\n",
    "plt.axvline(125)\n",
    "plt.axvline(145)"
   ]
  },
  {
   "cell_type": "markdown",
   "metadata": {},
   "source": [
    "The vertical lines correspond to the domains of this value's contribution to the SAPS II score as follows:\n",
    "\n",
    "- Below 125 mEq/l           : 5\n",
    "- Between 125 and 144 mEq/l : 0 \n",
    "- Above 145 mEq/l           : 1"
   ]
  },
  {
   "cell_type": "markdown",
   "metadata": {},
   "source": [
    "Same for Potassium serum/plasma (\"Kaliémie\"):\n",
    "\n",
    "- Below 3 mEq/l           : 3\n",
    "- Between 3 and 4,9 mEq/l : 0 \n",
    "- Above 5 mEq/l           : 1"
   ]
  },
  {
   "cell_type": "code",
   "execution_count": 9,
   "metadata": {
    "collapsed": false
   },
   "outputs": [],
   "source": [
    "query_icu_kaliemie = \"\"\"\n",
    "\n",
    "WITH ie AS                          -- Equivalent to icustays\n",
    "( SELECT *\n",
    "  FROM visit_detail\n",
    "  WHERE visit_detail_concept_id = 581382              \n",
    "  AND visit_type_concept_id = 2000000006 \n",
    "  \n",
    "), kaliemie as \n",
    "\n",
    "( SELECT *\n",
    "  FROM measurement\n",
    "  WHERE measurement_concept_id = 3023103\n",
    ")\n",
    "\n",
    "SELECT value_as_number\n",
    "FROM kaliemie        \n",
    "INNER JOIN ie ON ie.person_id=kaliemie.person_id\n",
    "LIMIT 20000;\n",
    "\n",
    "\"\"\"\n",
    "df_icu_kaliemie = pd.read_sql_query(query_icu_kaliemie, conn)"
   ]
  },
  {
   "cell_type": "code",
   "execution_count": 10,
   "metadata": {
    "collapsed": false
   },
   "outputs": [
    {
     "data": {
      "text/plain": [
       "<matplotlib.lines.Line2D at 0x112c34cc0>"
      ]
     },
     "execution_count": 10,
     "metadata": {},
     "output_type": "execute_result"
    },
    {
     "data": {
      "image/png": "[encoded data removed]",
      "text/plain": [
       "<matplotlib.figure.Figure at 0x1104f69b0>"
      ]
     },
     "metadata": {},
     "output_type": "display_data"
    }
   ],
   "source": [
    "fig = sns.distplot(df_icu_kaliemie[\"value_as_number\"], bins=20)\n",
    "fig.figure.suptitle(\"Distribution of Potassium serum/plasma (mEq/l) on ICU Stays\", fontsize = 18)\n",
    "plt.xlabel('Potassium serum/plasma (mEq/l) value', fontsize=12)\n",
    "plt.axvline(3)\n",
    "plt.axvline(5)"
   ]
  },
  {
   "cell_type": "markdown",
   "metadata": {},
   "source": [
    "** ADMISSION TYPE **"
   ]
  },
  {
   "cell_type": "markdown",
   "metadata": {},
   "source": [
    "* Unscheduled = emergency / urgent\n",
    "\n",
    "* Scheduled = elective\n",
    "\n",
    "from VISIT_OCCURRENCE \n",
    "\n",
    "https://github.com/MIT-LCP/mimic-omop/tree/master/etl/StandardizedClinicalDataTables/VISIT_OCCURRENCE\n",
    "\n"
   ]
  },
  {
   "cell_type": "code",
   "execution_count": 11,
   "metadata": {
    "collapsed": false
   },
   "outputs": [
    {
     "data": {
      "text/html": [
       "<div>\n",
       "<style>\n",
       "    .dataframe thead tr:only-child th {\n",
       "        text-align: right;\n",
       "    }\n",
       "\n",
       "    .dataframe thead th {\n",
       "        text-align: left;\n",
       "    }\n",
       "\n",
       "    .dataframe tbody tr th {\n",
       "        vertical-align: top;\n",
       "    }\n",
       "</style>\n",
       "<table border=\"1\" class=\"dataframe\">\n",
       "  <thead>\n",
       "    <tr style=\"text-align: right;\">\n",
       "      <th></th>\n",
       "      <th>num_admission_count</th>\n",
       "    </tr>\n",
       "  </thead>\n",
       "  <tbody>\n",
       "    <tr>\n",
       "      <th>0</th>\n",
       "      <td>58976</td>\n",
       "    </tr>\n",
       "  </tbody>\n",
       "</table>\n",
       "</div>"
      ],
      "text/plain": [
       "   num_admission_count\n",
       "0                58976"
      ]
     },
     "execution_count": 11,
     "metadata": {},
     "output_type": "execute_result"
    }
   ],
   "source": [
    "query_adm_type =\"\"\"\n",
    "\n",
    "SELECT COUNT(distinct visit_occurrence_id) AS num_admission_count\n",
    "FROM visit_occurrence;\n",
    "\n",
    "\"\"\"\n",
    "pd.read_sql_query(query_adm_type, conn)"
   ]
  },
  {
   "cell_type": "markdown",
   "metadata": {},
   "source": [
    "* Number of patients in EMERGENCY "
   ]
  },
  {
   "cell_type": "code",
   "execution_count": 12,
   "metadata": {
    "collapsed": false
   },
   "outputs": [
    {
     "data": {
      "text/html": [
       "<div>\n",
       "<style>\n",
       "    .dataframe thead tr:only-child th {\n",
       "        text-align: right;\n",
       "    }\n",
       "\n",
       "    .dataframe thead th {\n",
       "        text-align: left;\n",
       "    }\n",
       "\n",
       "    .dataframe tbody tr th {\n",
       "        vertical-align: top;\n",
       "    }\n",
       "</style>\n",
       "<table border=\"1\" class=\"dataframe\">\n",
       "  <thead>\n",
       "    <tr style=\"text-align: right;\">\n",
       "      <th></th>\n",
       "      <th>nb_id_emergency</th>\n",
       "    </tr>\n",
       "  </thead>\n",
       "  <tbody>\n",
       "    <tr>\n",
       "      <th>0</th>\n",
       "      <td>42071</td>\n",
       "    </tr>\n",
       "  </tbody>\n",
       "</table>\n",
       "</div>"
      ],
      "text/plain": [
       "   nb_id_emergency\n",
       "0            42071"
      ]
     },
     "execution_count": 12,
     "metadata": {},
     "output_type": "execute_result"
    }
   ],
   "source": [
    "query_adm_type =\"\"\"\n",
    "SELECT count(p.person_id) as nb_id_EMERGENCY\n",
    "FROM visit_occurrence v\n",
    "JOIN person p ON v.person_id = p.person_id\n",
    "WHERE v.visit_source_value = 'EMERGENCY'\n",
    ";\n",
    "\"\"\"\n",
    "pd.read_sql_query(query_adm_type, conn)"
   ]
  },
  {
   "cell_type": "markdown",
   "metadata": {},
   "source": [
    "* Medical versus surgical\n",
    "\n",
    "from VISIT_DETAIL\n",
    "\n",
    "https://github.com/MIT-LCP/mimic-omop/tree/master/etl/StandardizedClinicalDataTables/VISIT_DETAIL\n",
    "\n"
   ]
  },
  {
   "cell_type": "code",
   "execution_count": 13,
   "metadata": {
    "collapsed": false
   },
   "outputs": [
    {
     "data": {
      "text/html": [
       "<div>\n",
       "<style>\n",
       "    .dataframe thead tr:only-child th {\n",
       "        text-align: right;\n",
       "    }\n",
       "\n",
       "    .dataframe thead th {\n",
       "        text-align: left;\n",
       "    }\n",
       "\n",
       "    .dataframe tbody tr th {\n",
       "        vertical-align: top;\n",
       "    }\n",
       "</style>\n",
       "<table border=\"1\" class=\"dataframe\">\n",
       "  <thead>\n",
       "    <tr style=\"text-align: right;\">\n",
       "      <th></th>\n",
       "      <th>concept_id</th>\n",
       "      <th>concept_name</th>\n",
       "      <th>nb_distinct_person_id</th>\n",
       "    </tr>\n",
       "  </thead>\n",
       "  <tbody>\n",
       "    <tr>\n",
       "      <th>0</th>\n",
       "      <td>45763735</td>\n",
       "      <td>General medical service</td>\n",
       "      <td>25730</td>\n",
       "    </tr>\n",
       "    <tr>\n",
       "      <th>1</th>\n",
       "      <td>4149152</td>\n",
       "      <td>Surgical service</td>\n",
       "      <td>21073</td>\n",
       "    </tr>\n",
       "    <tr>\n",
       "      <th>2</th>\n",
       "      <td>4237225</td>\n",
       "      <td>Newborn care service</td>\n",
       "      <td>7862</td>\n",
       "    </tr>\n",
       "    <tr>\n",
       "      <th>3</th>\n",
       "      <td>4150859</td>\n",
       "      <td>Psychiatry service</td>\n",
       "      <td>1</td>\n",
       "    </tr>\n",
       "  </tbody>\n",
       "</table>\n",
       "</div>"
      ],
      "text/plain": [
       "   concept_id             concept_name  nb_distinct_person_id\n",
       "0    45763735  General medical service                  25730\n",
       "1     4149152         Surgical service                  21073\n",
       "2     4237225     Newborn care service                   7862\n",
       "3     4150859       Psychiatry service                      1"
      ]
     },
     "execution_count": 13,
     "metadata": {},
     "output_type": "execute_result"
    }
   ],
   "source": [
    "\n",
    "query_adm_type =\"\"\"\n",
    "SELECT distinct(concept_id), concept_name, count(distinct(person_id)) as nb_distinct_person_id\n",
    "FROM visit_detail\n",
    "JOIN concept ON visit_detail_concept_id = concept_id\n",
    "WHERE visit_type_concept_id = 45770670                          -- concept.concept_name = 'Services and care'\n",
    "GROUP BY concept_id, concept_name\n",
    "ORDER BY nb_distinct_person_id DESC\n",
    "\"\"\"\n",
    "pd.read_sql_query(query_adm_type, conn)\n"
   ]
  },
  {
   "cell_type": "markdown",
   "metadata": {},
   "source": [
    "* Number of ICU patients accepted in General medical service"
   ]
  },
  {
   "cell_type": "code",
   "execution_count": 14,
   "metadata": {
    "collapsed": false
   },
   "outputs": [
    {
     "data": {
      "text/html": [
       "<div>\n",
       "<style>\n",
       "    .dataframe thead tr:only-child th {\n",
       "        text-align: right;\n",
       "    }\n",
       "\n",
       "    .dataframe thead th {\n",
       "        text-align: left;\n",
       "    }\n",
       "\n",
       "    .dataframe tbody tr th {\n",
       "        vertical-align: top;\n",
       "    }\n",
       "</style>\n",
       "<table border=\"1\" class=\"dataframe\">\n",
       "  <thead>\n",
       "    <tr style=\"text-align: right;\">\n",
       "      <th></th>\n",
       "      <th>number_icu_general_medical</th>\n",
       "    </tr>\n",
       "  </thead>\n",
       "  <tbody>\n",
       "    <tr>\n",
       "      <th>0</th>\n",
       "      <td>112370</td>\n",
       "    </tr>\n",
       "  </tbody>\n",
       "</table>\n",
       "</div>"
      ],
      "text/plain": [
       "   number_icu_general_medical\n",
       "0                      112370"
      ]
     },
     "execution_count": 14,
     "metadata": {},
     "output_type": "execute_result"
    }
   ],
   "source": [
    "query_adm_type =\"\"\"\n",
    "\n",
    "WITH ie AS                                -- Equivalent to icustays\n",
    "( \n",
    "\n",
    "SELECT *\n",
    "FROM visit_detail\n",
    "WHERE visit_detail_concept_id = 581382              \n",
    "AND visit_type_concept_id = 2000000006 \n",
    "  \n",
    ")\n",
    "\n",
    "SELECT count(ie.person_id) as number_ICU_General_Medical\n",
    "\n",
    "FROM ie\n",
    "\n",
    "LEFT JOIN visit_detail vd\n",
    "    ON ie.person_id = vd.person_id \n",
    "   \n",
    "LEFT JOIN concept c\n",
    "    ON c.concept_id = vd.visit_detail_concept_id   \n",
    "   \n",
    "   \n",
    "WHERE c.concept_id  = 45763735            -- General medical service\n",
    "AND vd.visit_type_concept_id = 45770670   -- concept.concept_name = 'Services and care'\n",
    "\n",
    "\n",
    "    \n",
    "\"\"\"\n",
    "pd.read_sql_query(query_adm_type, conn)\n"
   ]
  },
  {
   "cell_type": "markdown",
   "metadata": {},
   "source": [
    "** Repartition of # distinct patients per admission type **"
   ]
  },
  {
   "cell_type": "code",
   "execution_count": 15,
   "metadata": {
    "collapsed": false
   },
   "outputs": [
    {
     "data": {
      "text/html": [
       "<div>\n",
       "<style>\n",
       "    .dataframe thead tr:only-child th {\n",
       "        text-align: right;\n",
       "    }\n",
       "\n",
       "    .dataframe thead th {\n",
       "        text-align: left;\n",
       "    }\n",
       "\n",
       "    .dataframe tbody tr th {\n",
       "        vertical-align: top;\n",
       "    }\n",
       "</style>\n",
       "<table border=\"1\" class=\"dataframe\">\n",
       "  <thead>\n",
       "    <tr style=\"text-align: right;\">\n",
       "      <th></th>\n",
       "      <th>admission_type</th>\n",
       "      <th>nb_distinct_patients</th>\n",
       "    </tr>\n",
       "  </thead>\n",
       "  <tbody>\n",
       "    <tr>\n",
       "      <th>0</th>\n",
       "      <td>Medical</td>\n",
       "      <td>25720</td>\n",
       "    </tr>\n",
       "    <tr>\n",
       "      <th>1</th>\n",
       "      <td>No matching found</td>\n",
       "      <td>12973</td>\n",
       "    </tr>\n",
       "    <tr>\n",
       "      <th>2</th>\n",
       "      <td>UnscheduledSurgical</td>\n",
       "      <td>11019</td>\n",
       "    </tr>\n",
       "    <tr>\n",
       "      <th>3</th>\n",
       "      <td>ScheduledSurgical</td>\n",
       "      <td>6209</td>\n",
       "    </tr>\n",
       "  </tbody>\n",
       "</table>\n",
       "</div>"
      ],
      "text/plain": [
       "        admission_type  nb_distinct_patients\n",
       "0              Medical                 25720\n",
       "1    No matching found                 12973\n",
       "2  UnscheduledSurgical                 11019\n",
       "3    ScheduledSurgical                  6209"
      ]
     },
     "execution_count": 15,
     "metadata": {},
     "output_type": "execute_result"
    }
   ],
   "source": [
    "query_adm_type =\"\"\"\n",
    "\n",
    "WITH ie AS                                -- Equivalent to icustays\n",
    "( \n",
    "\n",
    "SELECT *\n",
    "FROM visit_detail\n",
    "WHERE visit_detail_concept_id = 581382              \n",
    "AND visit_type_concept_id = 2000000006 \n",
    "  \n",
    ") ,\n",
    "\n",
    "surgflag as\n",
    "(\n",
    "  select ie.person_id as person_id\n",
    "    , case when c.concept_id  = 4149152 then 1 else 0 end as surgical\n",
    "    , ROW_NUMBER() over\n",
    "    (\n",
    "      PARTITION BY ie.person_id\n",
    "      ORDER BY vd.visit_start_datetime\n",
    "    ) as serviceOrder\n",
    "    \n",
    "  FROM ie\n",
    "  LEFT JOIN visit_detail vd\n",
    "      ON ie.person_id = vd.person_id \n",
    "      \n",
    "  LEFT JOIN concept c\n",
    "      ON c.concept_id = vd.visit_detail_concept_id \n",
    "      \n",
    "  WHERE vd.visit_type_concept_id = 45770670   -- 'Services and care'\n",
    "\n",
    ") ,\n",
    "\n",
    "cohort AS (\n",
    "\n",
    "SELECT ie.person_id as person_id,\n",
    "CASE\n",
    "          WHEN c.concept_id  = 4149152 AND v.visit_source_value = 'ELECTIVE' AND sf.surgical = 1\n",
    "          -- Respectively : c.concept_id is for 'Surgical service' AND v.visit_source_value for 'Scheduled' ones\n",
    "            THEN 'ScheduledSurgical'\n",
    "            \n",
    "          WHEN c.concept_id  = 4149152 AND (v.visit_source_value = 'EMERGENCY' OR v.visit_source_value = 'URGENT') AND sf.surgical = 1\n",
    "          -- Respectively : c.concept_id is for 'Surgical service' AND v.visit_source_value for 'Unscheduled' ones\n",
    "            THEN 'UnscheduledSurgical'\n",
    "            \n",
    "          WHEN c.concept_id  = 45763735 -- General medical service \n",
    "            THEN 'Medical'\n",
    "\n",
    "          ELSE 'No matching found'  \n",
    "END AS AdmissionType\n",
    "          \n",
    "FROM ie\n",
    "\n",
    "LEFT JOIN visit_detail vd\n",
    "    ON ie.person_id = vd.person_id \n",
    "   \n",
    "LEFT JOIN concept c\n",
    "    ON c.concept_id = vd.visit_detail_concept_id   \n",
    "    \n",
    "LEFT JOIN visit_occurrence v            -- WHEN ADDED,number_icu_general_medical = 112 370 ---> 697 338 !\n",
    "  on ie.person_id = v.person_id\n",
    "   \n",
    "LEFT JOIN surgflag sf\n",
    "  on ie.person_id = sf.person_id and sf.serviceOrder = 1\n",
    "   \n",
    "WHERE vd.visit_type_concept_id = 45770670   -- 'Services and care', maybe redondant..\n",
    "\n",
    ")\n",
    "\n",
    "SELECT AdmissionType as admission_type, count(distinct(coh.person_id)) as nb_distinct_patients\n",
    "FROM cohort coh\n",
    "GROUP BY AdmissionType\n",
    "ORDER BY nb_distinct_patients DESC\n",
    "\n",
    "\n",
    "\"\"\"\n",
    "pd.read_sql_query(query_adm_type, conn)"
   ]
  },
  {
   "cell_type": "code",
   "execution_count": null,
   "metadata": {
    "collapsed": true
   },
   "outputs": [],
   "source": [
    "'''\n",
    "\n",
    "admission_type\tnb_distinct_patients\n",
    "0\tMedical\t25720\n",
    "1\tUnscheduledSurgical\t16030\n",
    "2\tNo matching found\t7859\n",
    "3\tScheduledSurgical\t6903\n",
    "\n",
    "\n",
    "\n",
    "------------------------------\n",
    "\n",
    "\n",
    "When the following is added :\n",
    "\n",
    "...\n",
    "\"AND sf.surgical = 1\" for 'ScheduledSurgical' \n",
    "\"AND sf.surgical = 1\" for 'UnscheduledSurgical'\n",
    "...\n",
    "LEFT JOIN surgflag sf\n",
    "  on ie.person_id = sf.person_id and sf.serviceOrder = 1\n",
    "...\n",
    "  \n",
    "\n",
    "admission_type\tnb_distinct_patients\n",
    "0\tMedical\t25720\n",
    "1\tNo matching found\t12973\n",
    "2\tUnscheduledSurgical\t11019\n",
    "3\tScheduledSurgical\t6209\n",
    "\n",
    "\n",
    "We 'lose' 5,000 individuals from  UnscheduledSurgical towards No matching found\n",
    "\n",
    "Is it normal ? Should Medical be the ELSE in the cohort's CASE rather than No matching found?\n",
    "\n",
    "'''"
   ]
  },
  {
   "cell_type": "markdown",
   "metadata": {},
   "source": [
    "* Chronic diseases  :  https://github.com/MIT-LCP/mimic-omop/blob/master/extras/concept/admission_type_to_concept.csv\n",
    "\n",
    "https://github.com/OHDSI/CommonDataModel/wiki/CONDITION_OCCURRENCE\n",
    "\n",
    "We need to find 3 chronic diseases : Metastatic cancer , Hematologic malignancy or AIDS."
   ]
  },
  {
   "cell_type": "markdown",
   "metadata": {},
   "source": [
    "CONDITION_OCCURRENCE allows us to reach medical claims data include diagnoses coded in ICD-9-CM that are mentionned in the MIMIC code computation to extract comorbidity information (-- icd-9 diagnostic codes are our best source for comorbidity information)"
   ]
  },
  {
   "cell_type": "code",
   "execution_count": 16,
   "metadata": {
    "collapsed": false
   },
   "outputs": [
    {
     "data": {
      "text/html": [
       "<div>\n",
       "<style>\n",
       "    .dataframe thead tr:only-child th {\n",
       "        text-align: right;\n",
       "    }\n",
       "\n",
       "    .dataframe thead th {\n",
       "        text-align: left;\n",
       "    }\n",
       "\n",
       "    .dataframe tbody tr th {\n",
       "        vertical-align: top;\n",
       "    }\n",
       "</style>\n",
       "<table border=\"1\" class=\"dataframe\">\n",
       "  <thead>\n",
       "    <tr style=\"text-align: right;\">\n",
       "      <th></th>\n",
       "      <th>nb_ids_metastatic</th>\n",
       "    </tr>\n",
       "  </thead>\n",
       "  <tbody>\n",
       "    <tr>\n",
       "      <th>0</th>\n",
       "      <td>2569</td>\n",
       "    </tr>\n",
       "  </tbody>\n",
       "</table>\n",
       "</div>"
      ],
      "text/plain": [
       "   nb_ids_metastatic\n",
       "0               2569"
      ]
     },
     "execution_count": 16,
     "metadata": {},
     "output_type": "execute_result"
    }
   ],
   "source": [
    "query_chr_dis =\"\"\"\n",
    "\n",
    "WITH ie AS                                -- Equivalent to icustays\n",
    "( \n",
    "\n",
    "SELECT *\n",
    "FROM visit_detail\n",
    "WHERE visit_detail_concept_id = 581382              \n",
    "AND visit_type_concept_id = 2000000006 \n",
    "  \n",
    ") , comorb AS (\n",
    "\n",
    "SELECT person_id AS person_id\n",
    "-- these are slightly different than elixhauser comorbidities, but based on them\n",
    "-- they include some non-comorbid ICD-9 codes (e.g. 20302, relapse of multiple myeloma)\n",
    "  , max(CASE\n",
    "    when icd9_code between '042' and '0449 ' then 1\n",
    "  \t\tend) as AIDS      /* HIV and AIDS */\n",
    "  , max(CASE\n",
    "    when icd9_code between '20000' and '20238' then 1 -- lymphoma\n",
    "    when icd9_code between '20240' and '20248' then 1 -- leukemia\n",
    "    when icd9_code between '20250' and '20302' then 1 -- lymphoma\n",
    "    when icd9_code between '20310' and '20312' then 1 -- leukemia\n",
    "    when icd9_code between '20302' and '20382' then 1 -- lymphoma\n",
    "    when icd9_code between '20400' and '20522' then 1 -- chronic leukemia\n",
    "    when icd9_code between '20580' and '20702' then 1 -- other myeloid leukemia\n",
    "    when icd9_code between '20720' and '20892' then 1 -- other myeloid leukemia\n",
    "    when icd9_code = '2386 ' then 1 -- lymphoma\n",
    "    when icd9_code = '2733 ' then 1 -- lymphoma\n",
    "  \t\tend) as HEM\n",
    "  , max(CASE\n",
    "    when icd9_code between '1960 ' and '1991 ' then 1\n",
    "    when icd9_code between '20970' and '20975' then 1\n",
    "    when icd9_code = '20979' then 1\n",
    "    when icd9_code = '78951' then 1\n",
    "  \t\tend) as METS      /* Metastatic cancer */\n",
    "        \n",
    "  FROM\n",
    "  (\n",
    "    select person_id\n",
    "    , cast(condition_source_value as char(5)) as icd9_code\n",
    "    from condition_occurrence\n",
    "  ) icd\n",
    "  group by person_id\n",
    ")\n",
    "\n",
    "SELECT count(distinct(person_id)) as nb_ids_Metastatic\n",
    "FROM comorb\n",
    "WHERE mets=1 \n",
    "-- aids = 373; hem  = 1110 ;  mets = 2569\n",
    ";\n",
    "\n",
    "\"\"\"\n",
    "pd.read_sql_query(query_chr_dis, conn)"
   ]
  },
  {
   "cell_type": "markdown",
   "metadata": {},
   "source": [
    "# Proper replication of SAPS II "
   ]
  },
  {
   "cell_type": "code",
   "execution_count": 17,
   "metadata": {
    "collapsed": false
   },
   "outputs": [
    {
     "ename": "DatabaseError",
     "evalue": "Execution failed on sql '\nWITH ie AS                          -- Equivalent to icustays\n( SELECT *\n  FROM visit_detail\n  WHERE visit_detail_concept_id = 581382              \n  AND visit_type_concept_id = 2000000006 \n  \n) , cpap AS           \n\n( SELECT distinct ie.person_id,                     \n    , min(measurement_datetime - interval '1' hour) as starttime\n    , max(measurement_datetime + interval '4' hour) as endtime     \n    -- the previous is used to take measurement_datetime uncertainty into consideration \n    ,max(case when lower(me.value_source_value) similar to '%(cpap mask|bipap mask)%' then 1 else 0 end) as cpap\n    \n  FROM ie\n  \n  INNER JOIN measurement me         -- chartevents have been mapped onto MEASUREMENT and OBSERVATION on OMOP\n    ON ie.person_id=me.person_id\n    AND me.measurement_datetime between ie.visit_start_datetime and ie.visit_start_datetime + interval '1' day \n  \n  WHERE measurement_source_concept_id IN ( -- to changer once we'll have an unique measurement_concept_id for (Oxygen delivery)\n    2001030754\n    , 2001019143\n    , 2001019145\n    ) \n  AND lower(me.value_source_value) similar to '%(cpap mask|bipap mask)%'\n  group by ie.person_id\n  \n)\n\n': 42000!syntax error, unexpected ',' in: \"\n!with ie as                          -- Equivalent to icustays\n!( select *\n!  from\"\n",
     "output_type": "error",
     "traceback": [
      "\u001b[0;31m---------------------------------------------------------------------------\u001b[0m",
      "\u001b[0;31mOperationalError\u001b[0m                          Traceback (most recent call last)",
      "\u001b[0;32m//anaconda/lib/python3.5/site-packages/pandas/io/sql.py\u001b[0m in \u001b[0;36mexecute\u001b[0;34m(self, *args, **kwargs)\u001b[0m\n\u001b[1;32m   1403\u001b[0m             \u001b[0;32melse\u001b[0m\u001b[0;34m:\u001b[0m\u001b[0;34m\u001b[0m\u001b[0m\n\u001b[0;32m-> 1404\u001b[0;31m                 \u001b[0mcur\u001b[0m\u001b[0;34m.\u001b[0m\u001b[0mexecute\u001b[0m\u001b[0;34m(\u001b[0m\u001b[0;34m*\u001b[0m\u001b[0margs\u001b[0m\u001b[0;34m)\u001b[0m\u001b[0;34m\u001b[0m\u001b[0m\n\u001b[0m\u001b[1;32m   1405\u001b[0m             \u001b[0;32mreturn\u001b[0m \u001b[0mcur\u001b[0m\u001b[0;34m\u001b[0m\u001b[0m\n",
      "\u001b[0;32m//anaconda/lib/python3.5/site-packages/pymonetdb/sql/cursors.py\u001b[0m in \u001b[0;36mexecute\u001b[0;34m(self, operation, parameters)\u001b[0m\n\u001b[1;32m    173\u001b[0m \u001b[0;34m\u001b[0m\u001b[0m\n\u001b[0;32m--> 174\u001b[0;31m         \u001b[0mblock\u001b[0m \u001b[0;34m=\u001b[0m \u001b[0mself\u001b[0m\u001b[0;34m.\u001b[0m\u001b[0mconnection\u001b[0m\u001b[0;34m.\u001b[0m\u001b[0mexecute\u001b[0m\u001b[0;34m(\u001b[0m\u001b[0mquery\u001b[0m\u001b[0;34m)\u001b[0m\u001b[0;34m\u001b[0m\u001b[0m\n\u001b[0m\u001b[1;32m    175\u001b[0m         \u001b[0mself\u001b[0m\u001b[0;34m.\u001b[0m\u001b[0m_store_result\u001b[0m\u001b[0;34m(\u001b[0m\u001b[0mblock\u001b[0m\u001b[0;34m)\u001b[0m\u001b[0;34m\u001b[0m\u001b[0m\n",
      "\u001b[0;32m//anaconda/lib/python3.5/site-packages/pymonetdb/sql/connections.py\u001b[0m in \u001b[0;36mexecute\u001b[0;34m(self, query)\u001b[0m\n\u001b[1;32m    139\u001b[0m         \u001b[0;34m\"\"\" use this for executing SQL queries \"\"\"\u001b[0m\u001b[0;34m\u001b[0m\u001b[0m\n\u001b[0;32m--> 140\u001b[0;31m         \u001b[0;32mreturn\u001b[0m \u001b[0mself\u001b[0m\u001b[0;34m.\u001b[0m\u001b[0mcommand\u001b[0m\u001b[0;34m(\u001b[0m\u001b[0;34m's'\u001b[0m \u001b[0;34m+\u001b[0m \u001b[0mquery\u001b[0m \u001b[0;34m+\u001b[0m \u001b[0;34m'\\n;'\u001b[0m\u001b[0;34m)\u001b[0m\u001b[0;34m\u001b[0m\u001b[0m\n\u001b[0m\u001b[1;32m    141\u001b[0m \u001b[0;34m\u001b[0m\u001b[0m\n",
      "\u001b[0;32m//anaconda/lib/python3.5/site-packages/pymonetdb/sql/connections.py\u001b[0m in \u001b[0;36mcommand\u001b[0;34m(self, command)\u001b[0m\n\u001b[1;32m    144\u001b[0m         \u001b[0mself\u001b[0m\u001b[0;34m.\u001b[0m\u001b[0m__mapi_check\u001b[0m\u001b[0;34m(\u001b[0m\u001b[0;34m)\u001b[0m\u001b[0;34m\u001b[0m\u001b[0m\n\u001b[0;32m--> 145\u001b[0;31m         \u001b[0;32mreturn\u001b[0m \u001b[0mself\u001b[0m\u001b[0;34m.\u001b[0m\u001b[0mmapi\u001b[0m\u001b[0;34m.\u001b[0m\u001b[0mcmd\u001b[0m\u001b[0;34m(\u001b[0m\u001b[0mcommand\u001b[0m\u001b[0;34m)\u001b[0m\u001b[0;34m\u001b[0m\u001b[0m\n\u001b[0m\u001b[1;32m    146\u001b[0m \u001b[0;34m\u001b[0m\u001b[0m\n",
      "\u001b[0;32m//anaconda/lib/python3.5/site-packages/pymonetdb/mapi.py\u001b[0m in \u001b[0;36mcmd\u001b[0;34m(self, operation)\u001b[0m\n\u001b[1;32m    249\u001b[0m             \u001b[0mexception\u001b[0m\u001b[0;34m,\u001b[0m \u001b[0mstring\u001b[0m \u001b[0;34m=\u001b[0m \u001b[0mhandle_error\u001b[0m\u001b[0;34m(\u001b[0m\u001b[0mresponse\u001b[0m\u001b[0;34m[\u001b[0m\u001b[0;36m1\u001b[0m\u001b[0;34m:\u001b[0m\u001b[0;34m]\u001b[0m\u001b[0;34m)\u001b[0m\u001b[0;34m\u001b[0m\u001b[0m\n\u001b[0;32m--> 250\u001b[0;31m             \u001b[0;32mraise\u001b[0m \u001b[0mexception\u001b[0m\u001b[0;34m(\u001b[0m\u001b[0mstring\u001b[0m\u001b[0;34m)\u001b[0m\u001b[0;34m\u001b[0m\u001b[0m\n\u001b[0m\u001b[1;32m    251\u001b[0m         \u001b[0;32melif\u001b[0m \u001b[0mresponse\u001b[0m\u001b[0;34m[\u001b[0m\u001b[0;36m0\u001b[0m\u001b[0;34m]\u001b[0m \u001b[0;34m==\u001b[0m \u001b[0mMSG_INFO\u001b[0m\u001b[0;34m:\u001b[0m\u001b[0;34m\u001b[0m\u001b[0m\n",
      "\u001b[0;31mOperationalError\u001b[0m: 42000!syntax error, unexpected ',' in: \"\n!with ie as                          -- Equivalent to icustays\n!( select *\n!  from\"\n",
      "\nDuring handling of the above exception, another exception occurred:\n",
      "\u001b[0;31mDatabaseError\u001b[0m                             Traceback (most recent call last)",
      "\u001b[0;32m<ipython-input-17-2e145a934a40>\u001b[0m in \u001b[0;36m<module>\u001b[0;34m()\u001b[0m\n\u001b[1;32m     32\u001b[0m \"\"\"\n\u001b[1;32m     33\u001b[0m \u001b[0;34m\u001b[0m\u001b[0m\n\u001b[0;32m---> 34\u001b[0;31m \u001b[0mpd\u001b[0m\u001b[0;34m.\u001b[0m\u001b[0mread_sql_query\u001b[0m\u001b[0;34m(\u001b[0m\u001b[0mquery\u001b[0m\u001b[0;34m,\u001b[0m \u001b[0mconn\u001b[0m\u001b[0;34m)\u001b[0m\u001b[0;34m\u001b[0m\u001b[0m\n\u001b[0m",
      "\u001b[0;32m//anaconda/lib/python3.5/site-packages/pandas/io/sql.py\u001b[0m in \u001b[0;36mread_sql_query\u001b[0;34m(sql, con, index_col, coerce_float, params, parse_dates, chunksize)\u001b[0m\n\u001b[1;32m    330\u001b[0m     return pandas_sql.read_query(\n\u001b[1;32m    331\u001b[0m         \u001b[0msql\u001b[0m\u001b[0;34m,\u001b[0m \u001b[0mindex_col\u001b[0m\u001b[0;34m=\u001b[0m\u001b[0mindex_col\u001b[0m\u001b[0;34m,\u001b[0m \u001b[0mparams\u001b[0m\u001b[0;34m=\u001b[0m\u001b[0mparams\u001b[0m\u001b[0;34m,\u001b[0m \u001b[0mcoerce_float\u001b[0m\u001b[0;34m=\u001b[0m\u001b[0mcoerce_float\u001b[0m\u001b[0;34m,\u001b[0m\u001b[0;34m\u001b[0m\u001b[0m\n\u001b[0;32m--> 332\u001b[0;31m         parse_dates=parse_dates, chunksize=chunksize)\n\u001b[0m\u001b[1;32m    333\u001b[0m \u001b[0;34m\u001b[0m\u001b[0m\n\u001b[1;32m    334\u001b[0m \u001b[0;34m\u001b[0m\u001b[0m\n",
      "\u001b[0;32m//anaconda/lib/python3.5/site-packages/pandas/io/sql.py\u001b[0m in \u001b[0;36mread_query\u001b[0;34m(self, sql, index_col, coerce_float, params, parse_dates, chunksize)\u001b[0m\n\u001b[1;32m   1437\u001b[0m \u001b[0;34m\u001b[0m\u001b[0m\n\u001b[1;32m   1438\u001b[0m         \u001b[0margs\u001b[0m \u001b[0;34m=\u001b[0m \u001b[0m_convert_params\u001b[0m\u001b[0;34m(\u001b[0m\u001b[0msql\u001b[0m\u001b[0;34m,\u001b[0m \u001b[0mparams\u001b[0m\u001b[0;34m)\u001b[0m\u001b[0;34m\u001b[0m\u001b[0m\n\u001b[0;32m-> 1439\u001b[0;31m         \u001b[0mcursor\u001b[0m \u001b[0;34m=\u001b[0m \u001b[0mself\u001b[0m\u001b[0;34m.\u001b[0m\u001b[0mexecute\u001b[0m\u001b[0;34m(\u001b[0m\u001b[0;34m*\u001b[0m\u001b[0margs\u001b[0m\u001b[0;34m)\u001b[0m\u001b[0;34m\u001b[0m\u001b[0m\n\u001b[0m\u001b[1;32m   1440\u001b[0m         \u001b[0mcolumns\u001b[0m \u001b[0;34m=\u001b[0m \u001b[0;34m[\u001b[0m\u001b[0mcol_desc\u001b[0m\u001b[0;34m[\u001b[0m\u001b[0;36m0\u001b[0m\u001b[0;34m]\u001b[0m \u001b[0;32mfor\u001b[0m \u001b[0mcol_desc\u001b[0m \u001b[0;32min\u001b[0m \u001b[0mcursor\u001b[0m\u001b[0;34m.\u001b[0m\u001b[0mdescription\u001b[0m\u001b[0;34m]\u001b[0m\u001b[0;34m\u001b[0m\u001b[0m\n\u001b[1;32m   1441\u001b[0m \u001b[0;34m\u001b[0m\u001b[0m\n",
      "\u001b[0;32m//anaconda/lib/python3.5/site-packages/pandas/io/sql.py\u001b[0m in \u001b[0;36mexecute\u001b[0;34m(self, *args, **kwargs)\u001b[0m\n\u001b[1;32m   1414\u001b[0m             ex = DatabaseError(\n\u001b[1;32m   1415\u001b[0m                 \"Execution failed on sql '%s': %s\" % (args[0], exc))\n\u001b[0;32m-> 1416\u001b[0;31m             \u001b[0mraise_with_traceback\u001b[0m\u001b[0;34m(\u001b[0m\u001b[0mex\u001b[0m\u001b[0;34m)\u001b[0m\u001b[0;34m\u001b[0m\u001b[0m\n\u001b[0m\u001b[1;32m   1417\u001b[0m \u001b[0;34m\u001b[0m\u001b[0m\n\u001b[1;32m   1418\u001b[0m     \u001b[0;34m@\u001b[0m\u001b[0mstaticmethod\u001b[0m\u001b[0;34m\u001b[0m\u001b[0m\n",
      "\u001b[0;32m//anaconda/lib/python3.5/site-packages/pandas/compat/__init__.py\u001b[0m in \u001b[0;36mraise_with_traceback\u001b[0;34m(exc, traceback)\u001b[0m\n\u001b[1;32m    342\u001b[0m         \u001b[0;32mif\u001b[0m \u001b[0mtraceback\u001b[0m \u001b[0;34m==\u001b[0m \u001b[0mEllipsis\u001b[0m\u001b[0;34m:\u001b[0m\u001b[0;34m\u001b[0m\u001b[0m\n\u001b[1;32m    343\u001b[0m             \u001b[0m_\u001b[0m\u001b[0;34m,\u001b[0m \u001b[0m_\u001b[0m\u001b[0;34m,\u001b[0m \u001b[0mtraceback\u001b[0m \u001b[0;34m=\u001b[0m \u001b[0msys\u001b[0m\u001b[0;34m.\u001b[0m\u001b[0mexc_info\u001b[0m\u001b[0;34m(\u001b[0m\u001b[0;34m)\u001b[0m\u001b[0;34m\u001b[0m\u001b[0m\n\u001b[0;32m--> 344\u001b[0;31m         \u001b[0;32mraise\u001b[0m \u001b[0mexc\u001b[0m\u001b[0;34m.\u001b[0m\u001b[0mwith_traceback\u001b[0m\u001b[0;34m(\u001b[0m\u001b[0mtraceback\u001b[0m\u001b[0;34m)\u001b[0m\u001b[0;34m\u001b[0m\u001b[0m\n\u001b[0m\u001b[1;32m    345\u001b[0m \u001b[0;32melse\u001b[0m\u001b[0;34m:\u001b[0m\u001b[0;34m\u001b[0m\u001b[0m\n\u001b[1;32m    346\u001b[0m     \u001b[0;31m# this version of raise is a syntax error in Python 3\u001b[0m\u001b[0;34m\u001b[0m\u001b[0;34m\u001b[0m\u001b[0m\n",
      "\u001b[0;32m//anaconda/lib/python3.5/site-packages/pandas/io/sql.py\u001b[0m in \u001b[0;36mexecute\u001b[0;34m(self, *args, **kwargs)\u001b[0m\n\u001b[1;32m   1402\u001b[0m                 \u001b[0mcur\u001b[0m\u001b[0;34m.\u001b[0m\u001b[0mexecute\u001b[0m\u001b[0;34m(\u001b[0m\u001b[0;34m*\u001b[0m\u001b[0margs\u001b[0m\u001b[0;34m,\u001b[0m \u001b[0;34m**\u001b[0m\u001b[0mkwargs\u001b[0m\u001b[0;34m)\u001b[0m\u001b[0;34m\u001b[0m\u001b[0m\n\u001b[1;32m   1403\u001b[0m             \u001b[0;32melse\u001b[0m\u001b[0;34m:\u001b[0m\u001b[0;34m\u001b[0m\u001b[0m\n\u001b[0;32m-> 1404\u001b[0;31m                 \u001b[0mcur\u001b[0m\u001b[0;34m.\u001b[0m\u001b[0mexecute\u001b[0m\u001b[0;34m(\u001b[0m\u001b[0;34m*\u001b[0m\u001b[0margs\u001b[0m\u001b[0;34m)\u001b[0m\u001b[0;34m\u001b[0m\u001b[0m\n\u001b[0m\u001b[1;32m   1405\u001b[0m             \u001b[0;32mreturn\u001b[0m \u001b[0mcur\u001b[0m\u001b[0;34m\u001b[0m\u001b[0m\n\u001b[1;32m   1406\u001b[0m         \u001b[0;32mexcept\u001b[0m \u001b[0mException\u001b[0m \u001b[0;32mas\u001b[0m \u001b[0mexc\u001b[0m\u001b[0;34m:\u001b[0m\u001b[0;34m\u001b[0m\u001b[0m\n",
      "\u001b[0;32m//anaconda/lib/python3.5/site-packages/pymonetdb/sql/cursors.py\u001b[0m in \u001b[0;36mexecute\u001b[0;34m(self, operation, parameters)\u001b[0m\n\u001b[1;32m    172\u001b[0m             \u001b[0mquery\u001b[0m \u001b[0;34m=\u001b[0m \u001b[0moperation\u001b[0m\u001b[0;34m\u001b[0m\u001b[0m\n\u001b[1;32m    173\u001b[0m \u001b[0;34m\u001b[0m\u001b[0m\n\u001b[0;32m--> 174\u001b[0;31m         \u001b[0mblock\u001b[0m \u001b[0;34m=\u001b[0m \u001b[0mself\u001b[0m\u001b[0;34m.\u001b[0m\u001b[0mconnection\u001b[0m\u001b[0;34m.\u001b[0m\u001b[0mexecute\u001b[0m\u001b[0;34m(\u001b[0m\u001b[0mquery\u001b[0m\u001b[0;34m)\u001b[0m\u001b[0;34m\u001b[0m\u001b[0m\n\u001b[0m\u001b[1;32m    175\u001b[0m         \u001b[0mself\u001b[0m\u001b[0;34m.\u001b[0m\u001b[0m_store_result\u001b[0m\u001b[0;34m(\u001b[0m\u001b[0mblock\u001b[0m\u001b[0;34m)\u001b[0m\u001b[0;34m\u001b[0m\u001b[0m\n\u001b[1;32m    176\u001b[0m         \u001b[0mself\u001b[0m\u001b[0;34m.\u001b[0m\u001b[0mrownumber\u001b[0m \u001b[0;34m=\u001b[0m \u001b[0;36m0\u001b[0m\u001b[0;34m\u001b[0m\u001b[0m\n",
      "\u001b[0;32m//anaconda/lib/python3.5/site-packages/pymonetdb/sql/connections.py\u001b[0m in \u001b[0;36mexecute\u001b[0;34m(self, query)\u001b[0m\n\u001b[1;32m    138\u001b[0m     \u001b[0;32mdef\u001b[0m \u001b[0mexecute\u001b[0m\u001b[0;34m(\u001b[0m\u001b[0mself\u001b[0m\u001b[0;34m,\u001b[0m \u001b[0mquery\u001b[0m\u001b[0;34m)\u001b[0m\u001b[0;34m:\u001b[0m\u001b[0;34m\u001b[0m\u001b[0m\n\u001b[1;32m    139\u001b[0m         \u001b[0;34m\"\"\" use this for executing SQL queries \"\"\"\u001b[0m\u001b[0;34m\u001b[0m\u001b[0m\n\u001b[0;32m--> 140\u001b[0;31m         \u001b[0;32mreturn\u001b[0m \u001b[0mself\u001b[0m\u001b[0;34m.\u001b[0m\u001b[0mcommand\u001b[0m\u001b[0;34m(\u001b[0m\u001b[0;34m's'\u001b[0m \u001b[0;34m+\u001b[0m \u001b[0mquery\u001b[0m \u001b[0;34m+\u001b[0m \u001b[0;34m'\\n;'\u001b[0m\u001b[0;34m)\u001b[0m\u001b[0;34m\u001b[0m\u001b[0m\n\u001b[0m\u001b[1;32m    141\u001b[0m \u001b[0;34m\u001b[0m\u001b[0m\n\u001b[1;32m    142\u001b[0m     \u001b[0;32mdef\u001b[0m \u001b[0mcommand\u001b[0m\u001b[0;34m(\u001b[0m\u001b[0mself\u001b[0m\u001b[0;34m,\u001b[0m \u001b[0mcommand\u001b[0m\u001b[0;34m)\u001b[0m\u001b[0;34m:\u001b[0m\u001b[0;34m\u001b[0m\u001b[0m\n",
      "\u001b[0;32m//anaconda/lib/python3.5/site-packages/pymonetdb/sql/connections.py\u001b[0m in \u001b[0;36mcommand\u001b[0;34m(self, command)\u001b[0m\n\u001b[1;32m    143\u001b[0m         \u001b[0;34m\"\"\" use this function to send low level mapi commands \"\"\"\u001b[0m\u001b[0;34m\u001b[0m\u001b[0m\n\u001b[1;32m    144\u001b[0m         \u001b[0mself\u001b[0m\u001b[0;34m.\u001b[0m\u001b[0m__mapi_check\u001b[0m\u001b[0;34m(\u001b[0m\u001b[0;34m)\u001b[0m\u001b[0;34m\u001b[0m\u001b[0m\n\u001b[0;32m--> 145\u001b[0;31m         \u001b[0;32mreturn\u001b[0m \u001b[0mself\u001b[0m\u001b[0;34m.\u001b[0m\u001b[0mmapi\u001b[0m\u001b[0;34m.\u001b[0m\u001b[0mcmd\u001b[0m\u001b[0;34m(\u001b[0m\u001b[0mcommand\u001b[0m\u001b[0;34m)\u001b[0m\u001b[0;34m\u001b[0m\u001b[0m\n\u001b[0m\u001b[1;32m    146\u001b[0m \u001b[0;34m\u001b[0m\u001b[0m\n\u001b[1;32m    147\u001b[0m     \u001b[0;32mdef\u001b[0m \u001b[0m__mapi_check\u001b[0m\u001b[0;34m(\u001b[0m\u001b[0mself\u001b[0m\u001b[0;34m)\u001b[0m\u001b[0;34m:\u001b[0m\u001b[0;34m\u001b[0m\u001b[0m\n",
      "\u001b[0;32m//anaconda/lib/python3.5/site-packages/pymonetdb/mapi.py\u001b[0m in \u001b[0;36mcmd\u001b[0;34m(self, operation)\u001b[0m\n\u001b[1;32m    248\u001b[0m         \u001b[0;32melif\u001b[0m \u001b[0mresponse\u001b[0m\u001b[0;34m[\u001b[0m\u001b[0;36m0\u001b[0m\u001b[0;34m]\u001b[0m \u001b[0;34m==\u001b[0m \u001b[0mMSG_ERROR\u001b[0m\u001b[0;34m:\u001b[0m\u001b[0;34m\u001b[0m\u001b[0m\n\u001b[1;32m    249\u001b[0m             \u001b[0mexception\u001b[0m\u001b[0;34m,\u001b[0m \u001b[0mstring\u001b[0m \u001b[0;34m=\u001b[0m \u001b[0mhandle_error\u001b[0m\u001b[0;34m(\u001b[0m\u001b[0mresponse\u001b[0m\u001b[0;34m[\u001b[0m\u001b[0;36m1\u001b[0m\u001b[0;34m:\u001b[0m\u001b[0;34m]\u001b[0m\u001b[0;34m)\u001b[0m\u001b[0;34m\u001b[0m\u001b[0m\n\u001b[0;32m--> 250\u001b[0;31m             \u001b[0;32mraise\u001b[0m \u001b[0mexception\u001b[0m\u001b[0;34m(\u001b[0m\u001b[0mstring\u001b[0m\u001b[0;34m)\u001b[0m\u001b[0;34m\u001b[0m\u001b[0m\n\u001b[0m\u001b[1;32m    251\u001b[0m         \u001b[0;32melif\u001b[0m \u001b[0mresponse\u001b[0m\u001b[0;34m[\u001b[0m\u001b[0;36m0\u001b[0m\u001b[0;34m]\u001b[0m \u001b[0;34m==\u001b[0m \u001b[0mMSG_INFO\u001b[0m\u001b[0;34m:\u001b[0m\u001b[0;34m\u001b[0m\u001b[0m\n\u001b[1;32m    252\u001b[0m             \u001b[0mlogger\u001b[0m\u001b[0;34m.\u001b[0m\u001b[0minfo\u001b[0m\u001b[0;34m(\u001b[0m\u001b[0;34m\"%s\"\u001b[0m \u001b[0;34m%\u001b[0m \u001b[0;34m(\u001b[0m\u001b[0mresponse\u001b[0m\u001b[0;34m[\u001b[0m\u001b[0;36m1\u001b[0m\u001b[0;34m:\u001b[0m\u001b[0;34m]\u001b[0m\u001b[0;34m)\u001b[0m\u001b[0;34m)\u001b[0m\u001b[0;34m\u001b[0m\u001b[0m\n",
      "\u001b[0;31mDatabaseError\u001b[0m: Execution failed on sql '\nWITH ie AS                          -- Equivalent to icustays\n( SELECT *\n  FROM visit_detail\n  WHERE visit_detail_concept_id = 581382              \n  AND visit_type_concept_id = 2000000006 \n  \n) , cpap AS           \n\n( SELECT distinct ie.person_id,                     \n    , min(measurement_datetime - interval '1' hour) as starttime\n    , max(measurement_datetime + interval '4' hour) as endtime     \n    -- the previous is used to take measurement_datetime uncertainty into consideration \n    ,max(case when lower(me.value_source_value) similar to '%(cpap mask|bipap mask)%' then 1 else 0 end) as cpap\n    \n  FROM ie\n  \n  INNER JOIN measurement me         -- chartevents have been mapped onto MEASUREMENT and OBSERVATION on OMOP\n    ON ie.person_id=me.person_id\n    AND me.measurement_datetime between ie.visit_start_datetime and ie.visit_start_datetime + interval '1' day \n  \n  WHERE measurement_source_concept_id IN ( -- to changer once we'll have an unique measurement_concept_id for (Oxygen delivery)\n    2001030754\n    , 2001019143\n    , 2001019145\n    ) \n  AND lower(me.value_source_value) similar to '%(cpap mask|bipap mask)%'\n  group by ie.person_id\n  \n)\n\n': 42000!syntax error, unexpected ',' in: \"\n!with ie as                          -- Equivalent to icustays\n!( select *\n!  from\"\n"
     ]
    }
   ],
   "source": [
    "query = \"\"\"\n",
    "WITH ie AS                          -- Equivalent to icustays\n",
    "( SELECT *\n",
    "  FROM visit_detail\n",
    "  WHERE visit_detail_concept_id = 581382              \n",
    "  AND visit_type_concept_id = 2000000006 \n",
    "  \n",
    ") , cpap AS           \n",
    "\n",
    "( SELECT distinct ie.person_id,                     \n",
    "    , min(measurement_datetime - interval '1' hour) as starttime\n",
    "    , max(measurement_datetime + interval '4' hour) as endtime     \n",
    "    -- the previous is used to take measurement_datetime uncertainty into consideration \n",
    "    ,max(case when lower(me.value_source_value) similar to '%(cpap mask|bipap mask)%' then 1 else 0 end) as cpap\n",
    "    \n",
    "  FROM ie\n",
    "  \n",
    "  INNER JOIN measurement me         -- chartevents have been mapped onto MEASUREMENT and OBSERVATION on OMOP\n",
    "    ON ie.person_id=me.person_id\n",
    "    AND me.measurement_datetime between ie.visit_start_datetime and ie.visit_start_datetime + interval '1' day \n",
    "  \n",
    "  WHERE measurement_source_concept_id IN ( -- to changer once we'll have an unique measurement_concept_id for (Oxygen delivery)\n",
    "    2001030754\n",
    "    , 2001019143\n",
    "    , 2001019145\n",
    "    ) \n",
    "  AND lower(me.value_source_value) similar to '%(cpap mask|bipap mask)%'\n",
    "  group by ie.person_id\n",
    "  \n",
    ")\n",
    "\n",
    "\"\"\"\n",
    "\n",
    "pd.read_sql_query(query, conn)"
   ]
  }
 ],
 "metadata": {
  "kernelspec": {
   "display_name": "Python 3",
   "language": "python",
   "name": "python3"
  },
  "language_info": {
   "codemirror_mode": {
    "name": "ipython",
    "version": 3
   },
   "file_extension": ".py",
   "mimetype": "text/x-python",
   "name": "python",
   "nbconvert_exporter": "python",
   "pygments_lexer": "ipython3",
   "version": "3.5.4"
  }
 },
 "nbformat": 4,
 "nbformat_minor": 2
}
